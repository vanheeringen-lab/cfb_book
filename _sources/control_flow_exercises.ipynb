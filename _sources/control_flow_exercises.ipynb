{
 "cells": [
  {
   "cell_type": "markdown",
   "metadata": {},
   "source": [
    "## Exercises: control flow"
   ]
  },
  {
   "cell_type": "markdown",
   "metadata": {},
   "source": [
    "### Exercise 4.1\n",
    "\n",
    "Here are two variables containing sequences:\n",
    "\n",
    "~~~{.python}\n",
    "a = 'GCTAGGCAGGTGCAGGGGTAG'\n",
    "b = 'GGCAGATAGGACAGTGAGGGACATAGACCATAGACGANCATGACTTAG'\n",
    "~~~\n",
    "\n",
    "Write a block of statements that provides an answer to the question whether:\n",
    "\n",
    "1. the sequence of `a` is the same as the sequence of `b`\n",
    "2. `a` is longer than `b`, shorter than `b`, or the same length as `b`\n",
    "3. which of the sequences (if any) contains an 'N'"
   ]
  },
  {
   "cell_type": "markdown",
   "metadata": {},
   "source": [
    "### Exercise 4.2\n",
    "\n",
    "Take the following DNA sequence.\n",
    "\n",
    "    dna = \"TTGCATGTCAATCGATCGGATTGGTTGATTTATCCCGA\"\n",
    "\n",
    "Write code that will print `*` if there is a stop codon in this sequence (TAA, TAG or TGA). "
   ]
  },
  {
   "cell_type": "markdown",
   "metadata": {},
   "source": [
    "### Exercise 4.3\n",
    "\n",
    "Read the description and methods of the UCSC CpG island track: [https://genome.ucsc.edu/cgi-bin/hgTrackUi?g=cpgIslandSuper](https://genome.ucsc.edu/cgi-bin/hgTrackUi?g=cpgIslandSuper).\n",
    "\n",
    "Write the code that will test if a sequence is a CpG island. You can test your code with the following sequences (only the first is a CpG island):\n",
    "\n",
    "\n",
    "    #chr15:74022901-74023101\n",
    "        seq1 = (\"AAGTGCGACATCAGCGCAGAGATCCAGCAGCGACAGGAGGAG\"\n",
    "            \"CTGGACGCCATGACGCAGGCGCTGCAGGAGCAGGATAGTGCC\"\n",
    "            \"TTTGGCGCGGTTCACGCGCAGATGCACGCGGCCGTCGGCCAG\"\n",
    "            \"CTGGGCCGCGCGCGTGCCGAGACCGAGGAGCTGATCCGCGAG\"\n",
    "            \"CGCGTGCGCCAGGTGGTAGCTCACGTGCGGGCGT\")\n",
    "\n",
    "    #chr15:74022838-74023029\n",
    "    seq2 = (\"CGAGGATGTTCCAAGCCGCTGTGCTGCTCGTGCGCGCTCCTT\"\n",
    "            \"GACAGCAGCCACAGTGAGCTCAAGTGCGACATCAGCGCAGAG\"\n",
    "            \"ATCCAGCAGCGACAGGAGGAGCTGGACGCCATGACGCAGGCG\"\n",
    "            \"CTGCAGGAGCAGGATAGTGCCTTTGGCGCGGTTCACGCGCAG\"\n",
    "            \"ATGCACGCGGCCGTCGGCCAGCTG\")\n",
    "\n",
    "    #chr15:74022489-74022698 \n",
    "    seq3 = (\"AGATGTGTGGAAGGGTGCACCCCACGATGCTCACCTGGTGCT\"\n",
    "            \"TCCTCGGTGGGGAAGGGAAATTCAGAAGTGGTGGAAAGAGAT\"\n",
    "            \"GATTGTCGTTTCGTATATCTTTGTATTGTTTCCCGGATGTTG\"\n",
    "            \"AAATTGTTACTGTAGTAACTTTTTATACTCATGTGTTATTGG\"\n",
    "            \"TAGTTTGGATACTATCACCATAACCACAAACACTGAATTAGG\")\n"
   ]
  },
  {
   "cell_type": "code",
   "execution_count": null,
   "metadata": {},
   "outputs": [],
   "source": []
  }
 ],
 "metadata": {
  "kernelspec": {
   "display_name": "Python 3",
   "language": "python",
   "name": "python3"
  },
  "language_info": {
   "codemirror_mode": {
    "name": "ipython",
    "version": 3
   },
   "file_extension": ".py",
   "mimetype": "text/x-python",
   "name": "python",
   "nbconvert_exporter": "python",
   "pygments_lexer": "ipython3",
   "version": "3.8.5"
  }
 },
 "nbformat": 4,
 "nbformat_minor": 4
}
