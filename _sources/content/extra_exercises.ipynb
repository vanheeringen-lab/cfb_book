{
 "cells": [
  {
   "cell_type": "markdown",
   "metadata": {},
   "source": [
    "# Assembling the pieces\n",
    "\n",
    "In this chapter, no new Python topics will be introduced. You will practice by writing functions that combine the different topics that we have covered.\n",
    "\n",
    "## Exercises"
   ]
  },
  {
   "cell_type": "markdown",
   "metadata": {},
   "source": [
    "**Exercise 7.1: Translation**\n",
    "\n",
    "Write a function `mrna2protein` that converts an mRNA sequence (using the A,C,G,T alphabet) into\n",
    "a protein sequence.\n",
    "You can use the codon table that was used in **exercise 6.9**."
   ]
  },
  {
   "cell_type": "code",
   "execution_count": 4,
   "metadata": {},
   "outputs": [],
   "source": [
    "def mrna2protein(seq):\n",
    "    # Adapt this function with your own code\n",
    "    \n",
    "    return prot"
   ]
  },
  {
   "cell_type": "markdown",
   "metadata": {},
   "source": [
    "**Exercise 7.2: Open reading frames**\n",
    " \n",
    "Write a function `longest_orfs` that will take a DNA sequence as input and returns the protein sequence encoded by\n",
    "the longest ORF for all three frames. The return value should be a dictionary, with the frame number as the key and the\n",
    "protein sequence as the value. This means that the dictionary will have three `key:value` pairs. The three keys are `1`,\n",
    " `2` and `3` and the corresponding values are the longest ORF for frame 1, the longest ORF for frame 2 and the longest ORF for frame 3.\n",
    "\n",
    "The stop codon (`*` in the amino acid table) should not be included in the translation of the ORF. For this exercise an open reading frame does not need to start with an ATG, it can start with any codon, except a stop codon.\n",
    "For example, take the sequence `\"actgcgtagagagctggagagattaggc\"`. The translation of the full sequence for frame 1 would look like this:\n",
    " \n",
    "```\n",
    "TA*RAGEIR\n",
    "```\n",
    "\n",
    "In this example, the longest ORF is `RAGEIR`.\n",
    "\n",
    "You can re-use code that you have written for **exercise 4.8** and **exercise 7.1**.\n"
   ]
  },
  {
   "cell_type": "code",
   "execution_count": null,
   "metadata": {},
   "outputs": [],
   "source": [
    "def longest_orfs(seq):\n",
    "    # Adapt this function with your own code\n",
    "    return orfs"
   ]
  },
  {
   "cell_type": "markdown",
   "metadata": {},
   "source": [
    "**Exercise 7.3: Hamming distance**\n",
    "\n",
    "Write a function called `hamming` that takes two strings `s` and `t` of equal length as arguments and computes the number of differences between them.\n",
    "The function should return the number of symbols that differ in `s` and `t`.\n"
   ]
  },
  {
   "cell_type": "code",
   "execution_count": 1,
   "metadata": {},
   "outputs": [
    {
     "name": "stdout",
     "output_type": "stream",
     "text": [
      "0\n",
      "0\n",
      "0\n"
     ]
    }
   ],
   "source": [
    "def hamming(s, t):\n",
    "    # adapt this function with your own code\n",
    "    return 0\n",
    "\n",
    "print(hamming(\"ACTG\", \"ACTG\"))\n",
    "print(hamming(\"ACTG\", \"GTCA\"))\n",
    "print(hamming(\"AACC\", \"AATT\") + hamming(\"CTGA\", \"TCGA\"))"
   ]
  },
  {
   "cell_type": "markdown",
   "metadata": {},
   "source": [
    "If your function is defined correctly, the code above should exactly match the following output when run:\n",
    "\n",
    "    0\n",
    "    4\n",
    "    4\n",
    "\n",
    "**Exercise 7.4 Find exact motif matches**\n",
    "\n",
    "Given two strings `s` and `t`, `t` is a substring of `s` if `t`\n",
    "is contained as a contiguous collection of symbols in `s` (as a result,\n",
    "`t` must be no longer than `s`).\n",
    "Write a function called `find_match` that takes two arguments, `s` and `t`,\n",
    "and returns a `list` of all positions of the substring `t` in `s`."
   ]
  },
  {
   "cell_type": "code",
   "execution_count": 2,
   "metadata": {},
   "outputs": [],
   "source": [
    "# define your function here"
   ]
  },
  {
   "cell_type": "markdown",
   "metadata": {},
   "source": [
    "When you have finished the function run the code below:"
   ]
  },
  {
   "cell_type": "code",
   "execution_count": 3,
   "metadata": {
    "tags": [
     "raises-exception"
    ]
   },
   "outputs": [
    {
     "ename": "NameError",
     "evalue": "name 'find_match' is not defined",
     "output_type": "error",
     "traceback": [
      "\u001b[0;31m---------------------------------------------------------------------------\u001b[0m",
      "\u001b[0;31mNameError\u001b[0m                                 Traceback (most recent call last)",
      "\u001b[0;32m<ipython-input-3-40bff4aae27b>\u001b[0m in \u001b[0;36m<module>\u001b[0;34m()\u001b[0m\n\u001b[1;32m      1\u001b[0m \u001b[0;31m# Don't change anything here, but update the function definition above!\u001b[0m\u001b[0;34m\u001b[0m\u001b[0;34m\u001b[0m\u001b[0;34m\u001b[0m\u001b[0m\n\u001b[0;32m----> 2\u001b[0;31m \u001b[0mprint\u001b[0m\u001b[0;34m(\u001b[0m\u001b[0mfind_match\u001b[0m\u001b[0;34m(\u001b[0m\u001b[0;34m\"GATATATGCATATACTT\"\u001b[0m\u001b[0;34m,\u001b[0m \u001b[0;34m\"ATAT\"\u001b[0m\u001b[0;34m)\u001b[0m\u001b[0;34m)\u001b[0m\u001b[0;34m\u001b[0m\u001b[0;34m\u001b[0m\u001b[0m\n\u001b[0m\u001b[1;32m      3\u001b[0m \u001b[0mprint\u001b[0m\u001b[0;34m(\u001b[0m\u001b[0mfind_match\u001b[0m\u001b[0;34m(\u001b[0m\u001b[0;34m\"AUGCUUCAGAAAGGUCUUACG\"\u001b[0m\u001b[0;34m,\u001b[0m \u001b[0;34m\"U\"\u001b[0m\u001b[0;34m)\u001b[0m\u001b[0;34m)\u001b[0m\u001b[0;34m\u001b[0m\u001b[0;34m\u001b[0m\u001b[0m\n",
      "\u001b[0;31mNameError\u001b[0m: name 'find_match' is not defined"
     ]
    }
   ],
   "source": [
    "# Don't change anything here, but update the function definition above!\n",
    "print(find_match(\"GATATATGCATATACTT\", \"ATAT\"))\n",
    "print(find_match(\"AUGCUUCAGAAAGGUCUUACG\", \"U\"))"
   ]
  },
  {
   "cell_type": "markdown",
   "metadata": {},
   "source": [
    "Instead of giving an error, the output above should *exactly* match the following:\n",
    "\n",
    "    [2, 4, 10] \n",
    "    [2, 5, 6, 15, 17, 18] \n"
   ]
  },
  {
   "cell_type": "markdown",
   "metadata": {},
   "source": [
    "**Exercise 7.5: Motif conversion**\n",
    "\n",
    "Write a function that converts a consensus sequence into a positional weight matrix.\n",
    "The consensus sequence can be composed of symbols from the [IUPAC DNA code](http://www.bioinformatics.org/sms2/iupac.html).\n",
    "The function should ignore any non-IUPAC character. The positional weight matrix should be a two-dimensional list.\n",
    "Every element in the first list is a list containing the relative frequencies of A, C, G and T, in that specific order, that together sum up to `1.0`."
   ]
  },
  {
   "cell_type": "markdown",
   "metadata": {},
   "source": [
    "**Exercise 7.6: Analysis of a regulatory network** \n",
    "\n",
    "For this question use the regulatory network represented in the following dictionary:\n",
    "\n",
    "```python\n",
    "hsc_network = {\n",
    "    \"Scl\" : [\"Scl\",\"Gata1\",\"Gata2\",\"Hhex\",\"Zfpm1\",\"Fli1\",\"Erg\",\"Smad6\",\"Runx1\",\"Eto2\"],\n",
    "    \"Pu.1\" : [\"Pu.1\",\"Runx1\",\"Gata1\"],\n",
    "    \"Runx1\" : [\"Runx1\",\"Pu.1\",\"Erg\"],\n",
    "    \"Smad6\" : [\"Runx1\"],\n",
    "    \"Eto2\" : [\"Erg\"],\n",
    "    \"Gata1\" : [\"Gata1\",\"Scl\",\"Pu.1\",\"Gata2\"],\n",
    "    \"Fli1\" : [\"Fli1\",\"Runx1\",\"Pu.1\",\"Scl\",\"Gata2\",\"Hhex\",\"Erg\",\"Smad6\"],\n",
    "    \"Erg\" : [\"Smad6\",\"Runx1\",\"Erg\",\"Hhex\",\"Gata2\",\"Fli1\"],\n",
    "    \"Zfpm1\" : [\"Gata2\"],\n",
    "    \"Gata2\" : [\"Zfpm1\",\"Runx1\",\"Smad6\",\"Eto2\",\"Scl\",\"Gata2\",\"Hhex\",\"Fli1\",\"Erg\"],\n",
    "    \"Hhex\" : [\"Gata2\"]\n",
    "}\n",
    "```\n",
    "\n",
    "Each key is a transcription factor and each value is a list of target genes.\n",
    "\n",
    "Write a function `common_targets` that accepts three arguments: a TF-Target dictionary, and two TF\n",
    "names. The function should return a `list` with all the targets that are shared between the two TFs. The\n",
    "target `list` should be alphabetically ordered. When there are no common targets the function should return\n",
    "an empty `list`.\n",
    "With the network above, the following code:\n",
    "\n",
    "```python\n",
    "print(common_targets(hsc_network, \"Scl\", \"Gata2\"))\n",
    "print(common_targets(hsc_network, \"Smad6\", \"Eto2\"))\n",
    "print(common_targets(hsc_network, \"Zfpm1\", \"Hhex\"))\n",
    "```\n",
    "                     \n",
    "Should result in:\n",
    "\n",
    "```python\n",
    "['Erg', 'Eto2', 'Fli1', 'Gata2', 'Hhex', 'Runx1', 'Scl', 'Smad6', 'Zfpm1']\n",
    "[]\n",
    "['Gata2']\n",
    "```"
   ]
  },
  {
   "cell_type": "code",
   "execution_count": null,
   "metadata": {},
   "outputs": [],
   "source": []
  }
 ],
 "metadata": {
  "celltoolbar": "Tags",
  "kernelspec": {
   "display_name": "Python 3",
   "language": "python",
   "name": "python3"
  },
  "language_info": {
   "codemirror_mode": {
    "name": "ipython",
    "version": 3
   },
   "file_extension": ".py",
   "mimetype": "text/x-python",
   "name": "python",
   "nbconvert_exporter": "python",
   "pygments_lexer": "ipython3",
   "version": "3.7.3"
  }
 },
 "nbformat": 4,
 "nbformat_minor": 4
}
