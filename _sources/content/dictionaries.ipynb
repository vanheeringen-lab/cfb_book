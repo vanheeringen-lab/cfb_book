{
 "cells": [
  {
   "cell_type": "markdown",
   "metadata": {},
   "source": [
    "# Dictionaries\n",
    "\n",
    "A dictionary, or `dict`, is like a list, but more general. In a list, the indices have to be integers; in a dictionary they can be (almost) any type.\n",
    "You can think of a dictionary as a *mapping between a set of indices (which are called keys) and a set of values*. Each key maps to a value. The association of a key and a value is called a *key-value pair* or sometimes an *item*.\n",
    "\n",
    "\n",
    "As an example, we’ll build a dictionary that maps from *codons* to *amino acids*, so the keys and the values are all strings.\n",
    "\n",
    "![](img/dict1.png)\n",
    "\n",
    "The function `dict()` creates a new dictionary with no items. Because `dict` is the name of a built-in function, you should avoid using it as a variable name.\n"
   ]
  },
  {
   "cell_type": "code",
   "execution_count": 1,
   "metadata": {},
   "outputs": [
    {
     "name": "stdout",
     "output_type": "stream",
     "text": [
      "{}\n",
      "<class 'dict'>\n"
     ]
    }
   ],
   "source": [
    "cod2aa = dict()\n",
    "print(cod2aa)\n",
    "print(type(cod2aa))"
   ]
  },
  {
   "cell_type": "markdown",
   "metadata": {},
   "source": [
    "The curly-brackets, `{}`, represent an empty dictionary. \n",
    "You can als create an empty dictionary with the curly brackets (`{}`), just like you can create an empty list with square brackets (`[]`)."
   ]
  },
  {
   "cell_type": "code",
   "execution_count": 2,
   "metadata": {},
   "outputs": [
    {
     "name": "stdout",
     "output_type": "stream",
     "text": [
      "{}\n"
     ]
    }
   ],
   "source": [
    "cod2aa = {}\n",
    "print(cod2aa)"
   ]
  },
  {
   "cell_type": "markdown",
   "metadata": {},
   "source": [
    "To add items to the dictionary one at a time, you use square brackets:"
   ]
  },
  {
   "cell_type": "code",
   "execution_count": 3,
   "metadata": {},
   "outputs": [],
   "source": [
    "cod2aa['CTA'] = 'Leu'"
   ]
  },
  {
   "cell_type": "markdown",
   "metadata": {},
   "source": [
    "This line creates an item that maps from the key `'CTA'` to the value `'Leu'`. If we print the dictionary again, we see a key-value pair with a colon between the key and value:\n",
    "\n"
   ]
  },
  {
   "cell_type": "code",
   "execution_count": 4,
   "metadata": {},
   "outputs": [
    {
     "name": "stdout",
     "output_type": "stream",
     "text": [
      "{'CTA': 'Leu'}\n"
     ]
    }
   ],
   "source": [
    "print(cod2aa)"
   ]
  },
  {
   "cell_type": "markdown",
   "metadata": {},
   "source": [
    "This output format is also an input format. For example, you can create a new dictionary with 3 items:\n"
   ]
  },
  {
   "cell_type": "code",
   "execution_count": 5,
   "metadata": {},
   "outputs": [],
   "source": [
    "cod2aa = {'CTA': 'Leu', 'AGC': 'Ser', 'ACT': 'Thr'}"
   ]
  },
  {
   "cell_type": "markdown",
   "metadata": {},
   "source": [
    "If you print `cod2aa`, you will see that the order of the items in the dictionary is the same. The order of items in the dictionary identical top the order of insertion."
   ]
  },
  {
   "cell_type": "code",
   "execution_count": 6,
   "metadata": {},
   "outputs": [
    {
     "name": "stdout",
     "output_type": "stream",
     "text": [
      "{'CTA': 'Leu', 'AGC': 'Ser', 'ACT': 'Thr'}\n"
     ]
    }
   ],
   "source": [
    "print(cod2aa)"
   ]
  },
  {
   "cell_type": "markdown",
   "metadata": {},
   "source": [
    "```{warning}\n",
    "The dictionary order became available in Python 3.6 and is guaranteed from Python 3.7 onwards. If you ever use an older Python version, be aware that this order is not guaranteed and practically unpredictable. In this case you have to assume that a dictionary is unordered!\n",
    "```"
   ]
  },
  {
   "cell_type": "markdown",
   "metadata": {},
   "source": [
    "You can retrieve an item from a dictionary by using the `[]` square brackets. This is similar as to how you access elements from a list."
   ]
  },
  {
   "cell_type": "code",
   "execution_count": 7,
   "metadata": {},
   "outputs": [
    {
     "name": "stdout",
     "output_type": "stream",
     "text": [
      "Thr\n"
     ]
    }
   ],
   "source": [
    "print(cod2aa['ACT'])"
   ]
  },
  {
   "cell_type": "markdown",
   "metadata": {},
   "source": [
    "The key `'ACT'` always maps to the value `'Thr'` so the order of the items doesn’t matter.\n",
    "If the key isn’t in the dictionary, you get a `KeyError` exception:\n"
   ]
  },
  {
   "cell_type": "code",
   "execution_count": 8,
   "metadata": {
    "tags": [
     "raises-exception"
    ]
   },
   "outputs": [
    {
     "ename": "KeyError",
     "evalue": "'GGT'",
     "output_type": "error",
     "traceback": [
      "\u001b[0;31m---------------------------------------------------------------------------\u001b[0m",
      "\u001b[0;31mKeyError\u001b[0m                                  Traceback (most recent call last)",
      "\u001b[0;32m<ipython-input-8-de50dd413888>\u001b[0m in \u001b[0;36m<module>\u001b[0;34m\u001b[0m\n\u001b[0;32m----> 1\u001b[0;31m \u001b[0mprint\u001b[0m\u001b[0;34m(\u001b[0m\u001b[0mcod2aa\u001b[0m\u001b[0;34m[\u001b[0m\u001b[0;34m'GGT'\u001b[0m\u001b[0;34m]\u001b[0m\u001b[0;34m)\u001b[0m\u001b[0;34m\u001b[0m\u001b[0;34m\u001b[0m\u001b[0m\n\u001b[0m",
      "\u001b[0;31mKeyError\u001b[0m: 'GGT'"
     ]
    }
   ],
   "source": [
    "print(cod2aa['GGT'])"
   ]
  },
  {
   "cell_type": "markdown",
   "metadata": {},
   "source": [
    "```{note}\n",
    "Dictionaries are very similar to lists. The one major differences is that values in a `list` are always access by an integer and that value in a `dict` are can be accessed by a variety of key types. \n",
    "```"
   ]
  },
  {
   "cell_type": "markdown",
   "metadata": {},
   "source": [
    "Because you use keys to look up values, you can understand that *keys must always be unique*. On the other hand, *values do not need to be unique and can be anything*, including a `list` or a `dict`.\n",
    "Let us add another codon (key) that maps to an already existing amino acid (value):\n"
   ]
  },
  {
   "cell_type": "code",
   "execution_count": 9,
   "metadata": {},
   "outputs": [
    {
     "name": "stdout",
     "output_type": "stream",
     "text": [
      "{'CTA': 'Leu', 'AGC': 'Ser', 'ACT': 'Thr', 'TTG': 'Leu'}\n"
     ]
    }
   ],
   "source": [
    "cod2aa['TTG'] = 'Leu'\n",
    "print(cod2aa)"
   ]
  },
  {
   "cell_type": "markdown",
   "metadata": {},
   "source": [
    "The `len()` function works on dictionaries; it returns the number of key-value pairs:\n"
   ]
  },
  {
   "cell_type": "code",
   "execution_count": 10,
   "metadata": {},
   "outputs": [
    {
     "data": {
      "text/plain": [
       "4"
      ]
     },
     "execution_count": 10,
     "metadata": {},
     "output_type": "execute_result"
    }
   ],
   "source": [
    "len(cod2aa)"
   ]
  },
  {
   "cell_type": "markdown",
   "metadata": {},
   "source": [
    "The `in` operator works on dictionaries; it tells you whether something appears as a *key* in the dictionary (appearing as a value is not good enough).\n"
   ]
  },
  {
   "cell_type": "code",
   "execution_count": 11,
   "metadata": {},
   "outputs": [
    {
     "data": {
      "text/plain": [
       "True"
      ]
     },
     "execution_count": 11,
     "metadata": {},
     "output_type": "execute_result"
    }
   ],
   "source": [
    "'CTA' in cod2aa"
   ]
  },
  {
   "cell_type": "code",
   "execution_count": 12,
   "metadata": {},
   "outputs": [
    {
     "data": {
      "text/plain": [
       "False"
      ]
     },
     "execution_count": 12,
     "metadata": {},
     "output_type": "execute_result"
    }
   ],
   "source": [
    "'Leu' in cod2aa"
   ]
  },
  {
   "cell_type": "markdown",
   "metadata": {},
   "source": [
    "## Dictionary Methods\n",
    "\n",
    "Python provides methods that operate on dictionaries. For example, `keys()` gives you all the keys of a dictionary, `values()` gives you all the values, and `items()` gives you all key:value pairs.\n"
   ]
  },
  {
   "cell_type": "code",
   "execution_count": 13,
   "metadata": {},
   "outputs": [
    {
     "name": "stdout",
     "output_type": "stream",
     "text": [
      "dict_keys(['TTG', 'CTA', 'ACT', 'AGC'])\n"
     ]
    }
   ],
   "source": [
    "cod2aa = {'TTG': 'Leu', 'CTA': 'Leu', 'ACT': 'Thr', 'AGC': 'Ser'}\n",
    "codons = cod2aa.keys()\n",
    "print(codons)"
   ]
  },
  {
   "cell_type": "markdown",
   "metadata": {},
   "source": [
    "You see all the values of the keys in `cod2aa`, which are the different codons. However, you'll als not an unfamiliar `dict_keys()` object. If you want to loop over all the keys, this doesn't matter:"
   ]
  },
  {
   "cell_type": "code",
   "execution_count": 14,
   "metadata": {},
   "outputs": [
    {
     "name": "stdout",
     "output_type": "stream",
     "text": [
      "TTG\n",
      "CTA\n",
      "ACT\n",
      "AGC\n"
     ]
    }
   ],
   "source": [
    "for codon in codons:\n",
    "    print(codon)"
   ]
  },
  {
   "cell_type": "markdown",
   "metadata": {},
   "source": [
    "However, if you want to use this object as a `list` you have to explicitly convert it to `list` using the `list()` function."
   ]
  },
  {
   "cell_type": "code",
   "execution_count": 15,
   "metadata": {},
   "outputs": [
    {
     "name": "stdout",
     "output_type": "stream",
     "text": [
      "['TTG', 'CTA', 'ACT', 'AGC']\n"
     ]
    }
   ],
   "source": [
    "codons = list(codons)\n",
    "print(codons)"
   ]
  },
  {
   "cell_type": "markdown",
   "metadata": {},
   "source": [
    "The `values()` and `items()` methods are very similar to `keys()`."
   ]
  },
  {
   "cell_type": "code",
   "execution_count": 16,
   "metadata": {},
   "outputs": [
    {
     "name": "stdout",
     "output_type": "stream",
     "text": [
      "dict_values(['Leu', 'Leu', 'Thr', 'Ser'])\n"
     ]
    }
   ],
   "source": [
    "amino_acids = cod2aa.values()\n",
    "print(amino_acids)"
   ]
  },
  {
   "cell_type": "code",
   "execution_count": 17,
   "metadata": {},
   "outputs": [
    {
     "name": "stdout",
     "output_type": "stream",
     "text": [
      "dict_items([('TTG', 'Leu'), ('CTA', 'Leu'), ('ACT', 'Thr'), ('AGC', 'Ser')])\n"
     ]
    }
   ],
   "source": [
    "i = cod2aa.items()\n",
    "print(i)"
   ]
  },
  {
   "cell_type": "code",
   "execution_count": 18,
   "metadata": {},
   "outputs": [
    {
     "name": "stdout",
     "output_type": "stream",
     "text": [
      "TTG encodes for Leu\n",
      "CTA encodes for Leu\n",
      "ACT encodes for Thr\n",
      "AGC encodes for Ser\n"
     ]
    }
   ],
   "source": [
    "for codon, aa in cod2aa.items():\n",
    "    print(f\"{codon} encodes for {aa}\")"
   ]
  },
  {
   "cell_type": "markdown",
   "metadata": {},
   "source": [
    "As with lists, you can use `pop()` to obtain and delete one key:value pair."
   ]
  },
  {
   "cell_type": "code",
   "execution_count": 19,
   "metadata": {},
   "outputs": [
    {
     "name": "stdout",
     "output_type": "stream",
     "text": [
      "before pop: {'TTG': 'Leu', 'CTA': 'Leu', 'ACT': 'Thr', 'AGC': 'Ser'}\n",
      "Thr\n",
      "after pop: {'TTG': 'Leu', 'CTA': 'Leu', 'AGC': 'Ser'}\n"
     ]
    }
   ],
   "source": [
    "print(\"before pop:\", cod2aa)\n",
    "p = cod2aa.pop('ACT')\n",
    "print(p)\n",
    "print(\"after pop:\", cod2aa)"
   ]
  },
  {
   "cell_type": "markdown",
   "metadata": {},
   "source": [
    "## Glossary of useful `dictionary` terms\n",
    "\n",
    "* `dict()`\n",
    "* `len()`\n",
    "* `in`\n",
    "* `values()`\n",
    "* `keys()`\n",
    "* `items()`\n",
    "* `pop()`"
   ]
  },
  {
   "cell_type": "markdown",
   "metadata": {},
   "source": [
    "## Exercises: dictionaries\n",
    "\n",
    "**Exercise 5.1**\n",
    "\n",
    "Study the following code:\n",
    "\n",
    "```python\n",
    "my_dictionary = {} # initialize empty dictionary. NOTE the curly brackets (as opposed to SQUARE brackets to initialize an empty list)\n",
    "my_dictionary['green'] = 'color' # key = 'green', value = 'color'\n",
    "my_dictionary['volvo'] = 'car'  # key = 'volvo', value = 'car'\n",
    "my_dictionary['number_of_fingers'] = 10 # key = 'number_of_fingers', value = 10. Note, value is a number (not a string, so no quotes '')! \n",
    "print(\"dictionary:\", my_dictionary)\n",
    "print(\"value associated with key 'volvo':\", my_dictionary['volvo'])\n",
    "```\n",
    "\n",
    "1. Modify this code such that the dictionary also contains the key/value pair ('opel', 'car').\n",
    "2. Modify this code to add a key/value pair to the dictionary where `10` is the *key* and `'number_of_fingers'` is the *value* (so the reverse of key/value pair that is already in the dictionary.\n",
    "\n",
    "Verify your code by running it and checking the output.\n",
    "\n",
    "\n",
    "**Exercise 5.2**\n",
    "\n",
    "You can also initialize a dictionary as follows:\n",
    "\n",
    "```python\n",
    "my_dictionary = {'A':1, 'B':2, 'C':3}\n",
    "print(\"dictionary:\", my_dictionary)\n",
    "print(\"value associated with key 'A':\", my_dictionary['A'])\n",
    "```\n",
    "\n",
    "Use this syntax to create the dictionary from the previous exercise.\n",
    "\n",
    "**Exercise 5.3**\n",
    "\n",
    "I want the following code to print the value associated with the key 'B'. However, the code contains an error.\n",
    "\n",
    "```python\n",
    "my_dictionary = {'A':1, 'B':2, 'C':3}\n",
    "print(\"value associated with key 'A':\", my_dictionary[B])\n",
    "```\n",
    "\n",
    "Run the code and see if you can find where the error is and correct it so that it does print the value associated with key 'B'.\n",
    "\n",
    "**Exercise 5.4**\n",
    "\n",
    "Study and run the following code:\n",
    "\n",
    "```python\n",
    "my_dictionary = {'A':1, 'B':2, 'C':3}\n",
    "my_dictionary['A'] = 5\n",
    "print(\"value associated with key 'A':\", my_dictionary['A'])\n",
    "```\n",
    "\n",
    "1. Question: why is the value associated with the key 'A' the number 5 and not the number 1?\n",
    "\n",
    "**Exercise 5.5**\n",
    "\n",
    "Glossary for this exercise:\n",
    "\n",
    "* ***target gene*** : The genes in whose promoter a given binds. For instance, in the mouse ES cell network, NANOG binds in the promoter of SOX2, and therefore we call SOX2 a target gene of NANOG. Vice versa, SOX2 binds in the promoter of NANOG, so NANOG is also a target gene of SOX2.\n",
    "\n",
    "\n",
    "You are now going to write Python code to store the Muscle network in a dictionary. Create a dictionary variable that contains all the regulatory relationships between the TFs in the Muscle network. The keys of the dictionary should be the names of the TFs. The value for each `key` (representing a TF) should be a list that contains the ***target genes*** of that TF. At the end of your code, print the dictionary.\n",
    "\n",
    "Hint: you can create a dictionary with a list as a value for a key as follows:\n",
    "\n",
    "```python\n",
    "my_dictionary = { 'cars': ['opel', 'volvo', 'subaru'] }\n",
    "print('dictionary:', my_dictionary['cars'])\n",
    "```\n",
    "\n",
    "**Exercise 5.6**\n",
    "\n",
    "Study and run the following code:\n",
    "\n",
    "```python\n",
    "my_dictionary = {'A':1, 'B':2, 'C':3}\n",
    "\n",
    "for variable_1 in my_dictionary:\n",
    "    variable_2 = my_dictionary[variable_1]\n",
    "    print('variable_1:', variable_1, 'variable_2', variable_2)\n",
    "```\n",
    "\n",
    "1. Question: does the variable named *variable_1* contain keys or values from the dictionary?\n",
    "2. Question: does the variable named *variable_2* contain keys or values from the dictionary?\n",
    "3. Question: what would be a more appropriate (more insightful) name for the variable *variable_1*?\n",
    "4. Question: what would be a more appropriate (more insightful) name for the variable *variable_2*?\n",
    "\n",
    "\n",
    "**Exercise 5.7**\n",
    "\n",
    "Now adapt the code from exercise 5.6 so that it adds 4 to each value retrieved from the dictionary and prints this to the screen, together with the key.\n",
    "Use the more appropriate variable names instead of `variable_1` and `variable_2`.\n",
    "\n",
    "**NOTE** You are not allowed to change the dictionary itself in the process.\n",
    "\n",
    "**Exercise 5.8**\n",
    "\n",
    "The dictionary `esrrb` contains the number of Esrrb peaks per chromosome from an Esrrb ChIP-seq experiment (Chen et al. 2008, 13;133(6):1106-17, PMID 18555785).\n",
    "\n",
    "The dictionary `chrsizes` contains the length (bp) of each chromosome in the mouse genome (mm9).\n",
    "\n",
    "```python\n",
    "esrrb = {\n",
    "    'chr1': 1160, \n",
    "    'chr10': 1171, \n",
    "    'chr11': 1887, \n",
    "    'chr12': 799, \n",
    "    'chr13': 844, \n",
    "    'chr14': 535, \n",
    "    'chr15': 946, \n",
    "    'chr16': 708, \n",
    "    'chr17': 1098, \n",
    "    'chr18': 638, \n",
    "    'chr19': 660, \n",
    "    'chr2': 1771, \n",
    "    'chr3': 838, \n",
    "    'chr4': 1800, \n",
    "    'chr5': 1630, \n",
    "    'chr6': 1088, \n",
    "    'chr7': 1434, \n",
    "    'chr8': 1183, \n",
    "    'chr9': 1286\n",
    "}\n",
    "```\n",
    "\n",
    "```python\n",
    "chrsizes = {\n",
    "    \"chr1\": 197195432, \n",
    "    \"chr2\": 181748087, \n",
    "    \"chrX\": 166650296, \n",
    "    \"chr3\": 159599783, \n",
    "    \"chr4\": 155630120, \n",
    "    \"chr5\": 152537259, \n",
    "    \"chr7\": 152524553, \n",
    "    \"chr6\": 149517037, \n",
    "    \"chr8\": 131738871, \n",
    "    \"chr10\": 129993255, \n",
    "    \"chr14\": 125194864, \n",
    "    \"chr9\": 124076172, \n",
    "    \"chr11\": 121843856, \n",
    "    \"chr12\": 121257530,\n",
    "    \"chr13\": 120284312, \n",
    "    \"chr15\": 103494974, \n",
    "    \"chr16\": 98319150, \n",
    "    \"chr17\": 95272651, \n",
    "    \"chr18\": 90772031, \n",
    "    \"chr19\": 61342430, \n",
    "    \"chrY\": 15902555\n",
    "}\n",
    "```\n",
    "\n",
    "1. What is the Python command to obtain the number of peaks on chr6?\n",
    "\n",
    "2. The number of peaks for chr11 contains a typo. This should be 1878. Correct this in the dictionary\n",
    "\n",
    "3. Write a statement that answers the question whether chrX is present in `esrrb`.\n",
    "\n",
    "4. Expand the code of **3** so that the correct key-value pair is inserted in `esrrb` in case chrX is missing (chrX has 180 peaks)\n",
    "\n",
    "5. Get the number of peaks for chrY. What's going on here?\n",
    "\n",
    "6. Using the two dictionaries above, calculate the peak density (number of peaks per bp) for chr15. **Do not manually type the numeric data** \n",
    "\n",
    "7. Write a loop that will print the peak density for each chromosome.\n",
    "\n",
    "**Exercise 5.9**\n",
    "\n",
    "1. Using the keys and values of the dictionary `cod2aa`, make a new dictionary (e.g. `aa2cod`) that does the reverse of `cod2aa`: mapping amino acids to codons. Here is your starting point:\n",
    "\n",
    "```python\n",
    "cod2aa = {'TTG': 'Leu', 'AGC': 'Ser', 'CTA': 'Leu', 'ACT': 'Thr'}\n",
    "```\n",
    "\n",
    "2. Which problem did you encounter? Could you provide a solution to this?\n",
    "\n",
    "**Exercise 5.10**\n",
    " \n",
    "For these excercises you will use a dictionary with codons as keys as amino acids as values.\n",
    "Create this by running this command (using copy-paste):\n",
    "\n",
    "```python\n",
    "codons = {'aaa': 'K', 'aac': 'N', 'aag': 'K', 'aat': 'N', 'aca': 'T', 'acc': 'T', 'acg': 'T', 'act': 'T', 'aga': 'R', 'agc': 'S', 'agg': 'R', 'agt': 'S', 'ata': 'I', 'atc': 'I', 'atg': 'M', 'att': 'I', 'caa': 'Q', 'cac': 'H', 'cag': 'Q', 'cat': 'H', 'cca': 'P', 'ccc': 'P', 'ccg': 'P', 'cct': 'P', 'cga': 'R', 'cgc': 'R', 'cgg': 'R', 'cgt': 'R', 'cta': 'L', 'ctc': 'L', 'ctg': 'L', 'ctt': 'L', 'gaa': 'E', 'gac': 'D', 'gag': 'E', 'gat': 'D', 'gca': 'A', 'gcc': 'A', 'gcg': 'A', 'gct': 'A', 'gga': 'G', 'ggc': 'G', 'ggg': 'G', 'ggt': 'G', 'gta': 'V', 'gtc': 'V', 'gtg': 'V', 'gtt': 'V', 'taa': '*', 'tac': 'Y', 'tag': '*', 'tat': 'Y', 'tca': 'S', 'tcc': 'S', 'tcg': 'S', 'tct': 'S', 'tga': '*', 'tgc': 'C', 'tgg': 'W', 'tgt': 'C', 'tta': 'L', 'ttc': 'F', 'ttg': 'L', 'ttt': 'F'}\n",
    "```\n",
    "\n",
    "1. Provide the Python code that uses a loop to print for each codon its sequence and the amino acid it encodes (e.g. \"aaa encodes K\").\n",
    "\n",
    "2. Extend this code so that that it only prints the codon sequence if it encodes a stop codon.\n",
    "\n",
    "3. Create an empty list named `leu` using `[]`. Loop through the `codon` dictionary and add all codons for 'L' (leucine) to the list `leu`. After running your code, `leu` should contain 6 codons.\n",
    "\n",
    "**Exercise 5.11**\n",
    "\n",
    "Extend your code from **Exercise 4.8** to print the protein sequence encoded by the longest ORF.\n",
    "\n",
    "**Exercise 5.12**\n",
    "\n",
    "In this exercise you will compare the behaviour of lists and dictionaries with respect to indexing.\n",
    "\n",
    "Study and run the following example:\n",
    "\n",
    "```python\n",
    "my_list = ['A','B','C'] # initialize the list\n",
    "my_dictionary = { 0 : 'A',  # init the dictionary\n",
    "                  1 : 'B',\n",
    "                  2 : 'C' }\n",
    "\n",
    "print(\"0:\", my_list[0], my_dictionary[0])\n",
    "print(\"1:\", my_list[1], my_dictionary[1])\n",
    "print(\"2:\", my_list[2], my_dictionary[2])\n",
    "```\n",
    "\n",
    "You should see that for any given index (0, 1 and 2), `my_list` and `my_dictionary` return the same value.\n",
    "\n",
    "Now run the following example:\n",
    "\n",
    "```python\n",
    "my_list = ['A','B','C'] # initialize the list\n",
    "my_dictionary = { 0 : 'A', # init the dictionary\n",
    "                  1 : 'B',\n",
    "                  2 : 'C',\n",
    "                  5 : 'F' }\n",
    "\n",
    "print(\"0:\",my_list[0], my_dictionary[0])\n",
    "print(\"1:\",my_list[1], my_dictionary[1])\n",
    "print(\"2:\",my_list[2], my_dictionary[2])\n",
    "print(\"my_dictionary[5]:\",my_dictionary[5])\n",
    "print(\"my_list[5]:\")\n",
    "print(my_list[5])\n",
    "```\n",
    "\n",
    "1. Question: can you retrieve the value for key 5 from the dictionary?\n",
    "2. Question: can you retrieve the value for key 5 from the list? Why not?\n",
    "\n",
    "Now adapt the code by changing the initalization of the list (first line) such that\n",
    "\n",
    "```python\n",
    "mylist[5]\n",
    "```\n",
    "\n",
    "contains the value `'F'`, and as a result `print(my_list[5])` actually prints the letter F to screen.\n",
    "\n",
    "Hint: you need to initialize the list in such a way that 5 is a valid index for the list.\n",
    "\n",
    "3. Question: what is the minimum length of the list required to accomplish this?\n",
    "4. Question: Why is not possible to define a list (for instance, `my_list`) with only 4 items that still produces a value for index 5 (`my_list[5]`)?\n",
    "5. Question: Suppose you have a consecutive list of indices (or integer keys) 0,1,2,3,4,...,100 and corresponding values.\n",
    "Which type of variable is more efficient to store and access these keys and values: a list or a dictionary?\n",
    "6. Question: Suppose you have a sparse and non-consecutive list of 4 integers (for instance 1,2,10000 and 2000000) and associated values (for instance 'A','B','C' and 'D'). Which type of variable is more efficient to store and access this particular combination of keys and values together: a list or a dictionary? Explain why!\n",
    "\n",
    "\n",
    "## Exercises: Putting it all together\n",
    "\n",
    "**Exercise 5.13**\n",
    "\n",
    "1. You are now going to write Python code to store a transcription factor regulatory network (Neph et al., Cell 2012) in a dictionary. Create a dictionary variable that contains all the regulatory relationships between the TFs in the Skeletal Muscle network shown below. The keys of the dictionary should be the names of the TFs. The value for each `key` (representing a TF) should be a `list` that contains the ***target genes*** of that TF. At the end of your code, print the dictionary. \n",
    "\n",
    "![](img/skeletal_muscle_myoblast_denovo_network.png)\n",
    "\n",
    "2. Do the same for the Embryonic Stem Cell (ESC) network shown below, and print the dictionary.\n",
    "\n",
    "![](img/embryonic_stem_cells_denovo_network.png)\n",
    "\n",
    "3. Write Python code that prints each target gene of OCT4 in the ESC network ***using a `for` loop***. To answer this question, first think of how you can retrieve the target genes of 'OCT4' (which is the `key`) from the ESC network dictionary. Use the name *targetGene* for the loop variable. Remember that the code needs to be able to produce the output when run in a new session of Python, so you need to include the definitions of the networks as well in your answer.\n",
    "\n",
    "4. Write Python code that does the following:\n",
    " * Create a new empty dictionary named *mergedNetwork*\n",
    " * Store in *mergedNetwork* all the regulatory relationships that are present in the Muscle network dictionary. Use one for loop to iterate over the TFs stored as keys in the Muscle network dictionary.\n",
    " * Store in *mergedNetwork* all the regulatory relationships that are present in the ES cell network dictionary. Use again a for loop.\n",
    " * Print the *mergedNetwork*\n",
    "\n",
    "5. Write Python code that prints **all** the regulatory relationships stored in the *mergedNetwork* dictionary in the following format (here illustrated for the ES network, where \"->\" signifies that NANOG binds to the promoter of OCT4):\n",
    "\n",
    "~~~\n",
    "KLF4 -> KLF4\n",
    "KLF4 -> NANOG\n",
    "...\n",
    "NANOG -> OCT4\n",
    "~~~\n",
    "\n",
    "**Exercise 5.14**\n",
    "\n",
    "The purpose of this exercise is to simulate in a very simplified and not necessarily realistic way the dynamics of a regulatory network.\n",
    "\n",
    "Your program should have the following components:\n",
    " \n",
    " * Create a dictionary called *TFsBindingInPromoter* of the Muscle regulatory network (see picture above) in an alternative form: for each TF, this dictionary should store for each TF which TFs bind in its promoter. Note that this is a different way of representing the regulatory relationships than in the above exercise.  \n",
    " * Create a dictionary variable *TFState* that contains the *state* of each transcription factor. As the time proceeds, the state of the variables will be updated. Each transcription factor can be in one of two states. State *0* will represent the situation where the TF is not expressed; State *1* will represent the situation where the TF is expressed. Thus we will use numerical (`integer`) variables to track the state.\n",
    " * Put all the TFs in the 0 state (ie not expressed). Use a `for` loop to set the value to 0.\n",
    " * Put MEF2A in the expressed state (ie assign its state variable the value 1).\n",
    " * ***Dynamics*** Then simulate the dynamics of the regulatory network *in time* by assuming that all interactions between the TFs are ***positive***. \n",
    "   \n",
    "   Each time the state of a TF is updated, print the state of the complete network (ie print the dictionary *TFState*).\n",
    "\n",
    "***How to write the Python code for the simulation of the dynamics*** \n",
    "\n",
    " * ***Loop 1*** The idea is to do 3 *time steps* and see how the state of the network changes (this defines your first for loop) \n",
    " * ***Loop 2*** At each *time step*, the state of all TFs in the networks are updated (this requires a second *nested* for loop, which is over TFs). \n",
    " * ***Loop 3*** A given TF is updated depending on the *state* of the TFs that bind in its promoter (e.g. MYF6). This therefore requires a third loop.\n",
    " If at least one of the TFs binding in the promoter are expressed, then the TF itself (the target) will become expressed. This is the consequence of our assumptions that all regulatory interactions are positive. It is also called an update rule. \n",
    " You will thus need a third *nested* `for` loop to iterate over all the TFs that bind in the promoter of the TF whose state is being updated. Within this for loop you need an `if` statement to determine if one of the input TFs is expressed. If so, then you change the state of the TF you are updating. \n",
    " * After you have checked all the inputs of a given TF and updated if necessary, print the state of the network as recorded in the dictionary *TFState*. \n",
    "\n",
    " * Finally, run the program and answer the following question: what is the final state of all the TFs in the network?\n",
    "\n",
    " * Now do exactly the same, but instead putting \"MEF2A\" in the expressed state, put \"MYOD\" in the expressed state. Experiment with the number of time steps. What do you see? Is the end result the same? Explain how this result follows from the structure of the network. What does this tell you about the biology of differentiation of muscle cells (assuming the model and simulation are correct)? Is this conclusion biologically valid (bonus question)?\n",
    "\n"
   ]
  }
 ],
 "metadata": {
  "celltoolbar": "Tags",
  "kernelspec": {
   "display_name": "Python 3",
   "language": "python",
   "name": "python3"
  },
  "language_info": {
   "codemirror_mode": {
    "name": "ipython",
    "version": 3
   },
   "file_extension": ".py",
   "mimetype": "text/x-python",
   "name": "python",
   "nbconvert_exporter": "python",
   "pygments_lexer": "ipython3",
   "version": "3.7.3"
  }
 },
 "nbformat": 4,
 "nbformat_minor": 4
}
