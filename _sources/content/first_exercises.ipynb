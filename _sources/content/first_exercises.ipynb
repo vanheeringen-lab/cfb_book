{
 "cells": [
  {
   "cell_type": "markdown",
   "metadata": {},
   "source": [
    "# First exercises\n",
    "\n",
    "## Exercises: integer (int) and string (str) variables\n",
    "\n",
    "**Exercise 1.1**\n",
    "\n",
    "Consider the following code:\n",
    "\n",
    "```python\n",
    "a = 10\n",
    "b = 4\n",
    "c = a + b\n",
    "print(c)\n",
    "```\n",
    "\n",
    "1. Question: What is the value of `c` that is printed?\n",
    "2. Modify the value that is assigned to variable `b` in such a way that the value of `c` printed to screen is `16`. \n"
   ]
  },
  {
   "cell_type": "markdown",
   "metadata": {},
   "source": [
    "**Exercise 1.2**\n",
    "\n",
    "Create two variables `a` and `b`, and assign them the values 4 and 20 respectively. Create a new variable `c` that is the sum of these two variables. Your code should produce the following output by printing the value of the variable `c` to the screen:\n",
    "\n",
    "```python\n",
    "a + b = 24\n",
    "```"
   ]
  },
  {
   "cell_type": "markdown",
   "metadata": {},
   "source": [
    "**Exercise 1.3**\n",
    "\n",
    "Run the following code:\n",
    "    \n",
    "```python\n",
    "a = 10\n",
    "b = 4\n",
    "c = a + b\n",
    "print(c)\n",
    "print(c)\n",
    "```\n",
    "\n",
    "1. Question: Which value is printed to the screen and how often?\n",
    "\n",
    "Now assign the variable `b` a new value after having printed the value of `c`, like so:\n",
    "    \n",
    "```python\n",
    "a = 10\n",
    "b = 4\n",
    "c = a + b\n",
    "print('a + b = ',c)\n",
    "b = 10\n",
    "print('a + b = ',c)\n",
    "```\n",
    "\n",
    "2. Question: Why does the value of the variable *c* not change between the first and the second print statement (in line 4 and line 6 respectively)?\n"
   ]
  },
  {
   "cell_type": "markdown",
   "metadata": {},
   "source": [
    "\n",
    "**Exercise 1.4**\n",
    "\n",
    "Run the following code (make sure to write it *exactly* as shown here):\n",
    "\n",
    "```python\n",
    "a = '10'\n",
    "b = '4'\n",
    "c = a + b\n",
    "print(c)\n",
    "```\n",
    "\n",
    "1. Question: what is printed to the screen?\n",
    "2. Question: what type of variable are `a`, `b` and `c`? (e.g. list, integer, float, string)\n",
    "3. Question: why does it not print `14` to the screen? You could also try this example to see what is happening:\n",
    "\n",
    "```python\n",
    "a = '10'\n",
    "b = '4'\n",
    "c = a + '+' + b\n",
    "print(c)\n",
    "```"
   ]
  },
  {
   "cell_type": "markdown",
   "metadata": {},
   "source": [
    "**Exercise 1.5**\n",
    "\n",
    "Have a look at the following code (do not run it yet):\n",
    "\n",
    "```python\n",
    "a = 10\n",
    "b = '4'\n",
    "c = a + b\n",
    "print(c)\n",
    "```\n",
    "\n",
    "1. Question: what type of variable is `a`?\n",
    "2. Question: what type of variable is `b`? \n",
    "3. Question: what is the output of the code? (Run it!)\n",
    "4. Question: do you understand the output?"
   ]
  },
  {
   "cell_type": "markdown",
   "metadata": {},
   "source": [
    "## Working with strings"
   ]
  },
  {
   "cell_type": "markdown",
   "metadata": {},
   "source": [
    "As you have seen, you can combine strings using the `+` operator."
   ]
  },
  {
   "cell_type": "code",
   "execution_count": 1,
   "metadata": {},
   "outputs": [
    {
     "name": "stdout",
     "output_type": "stream",
     "text": [
      "this is a long string\n"
     ]
    }
   ],
   "source": [
    "first_part = \"this is \"\n",
    "second_part = \"a long string\"\n",
    "\n",
    "print(first_part + second_part)"
   ]
  },
  {
   "cell_type": "markdown",
   "metadata": {},
   "source": [
    "If you want to access specific parts of a string you can use `[` and `]` with a number in between."
   ]
  },
  {
   "cell_type": "code",
   "execution_count": 2,
   "metadata": {},
   "outputs": [
    {
     "data": {
      "text/plain": [
       "'e'"
      ]
     },
     "execution_count": 2,
     "metadata": {},
     "output_type": "execute_result"
    }
   ],
   "source": [
    "msg = \"hello there!\"\n",
    "msg[1]"
   ]
  },
  {
   "cell_type": "markdown",
   "metadata": {},
   "source": [
    "You'll see that `[1]` selects the second character of the string `\"hello there!\"`. Why the second and not the first? This is because Python, like many other programming language, starts counting at `0`.\n",
    "\n",
    "There is a more extended version, where you create a *slice*. In this case you specify `[start:end]`. This looks as follows:"
   ]
  },
  {
   "cell_type": "code",
   "execution_count": 4,
   "metadata": {},
   "outputs": [
    {
     "data": {
      "text/plain": [
       "'hello'"
      ]
     },
     "execution_count": 4,
     "metadata": {},
     "output_type": "execute_result"
    }
   ],
   "source": [
    "msg[0:5]"
   ]
  },
  {
   "cell_type": "markdown",
   "metadata": {},
   "source": [
    "Here you see that you can take a *substring* of `string`. In other words, you select a smaller part of a `string`.\n",
    "\n",
    "You can convert a number, such as an `int` or `float` to a string with the `str()` method."
   ]
  },
  {
   "cell_type": "code",
   "execution_count": 5,
   "metadata": {},
   "outputs": [
    {
     "name": "stdout",
     "output_type": "stream",
     "text": [
      "<class 'float'>\n",
      "<class 'str'>\n"
     ]
    }
   ],
   "source": [
    "a = 0.12\n",
    "print(type(a))\n",
    "b = str(a)\n",
    "print(type(b))"
   ]
  },
  {
   "cell_type": "markdown",
   "metadata": {},
   "source": [
    "Similarly, you can convert a string that contains a number to an integer with the `int()` function or to a float with the `float()` function.\n",
    "\n",
    "Strings have a number of methods that allow you to perform a variety of useful functions. For instance, `lower()` creates a new string where all characters are in lowercase.\n"
   ]
  },
  {
   "cell_type": "code",
   "execution_count": 4,
   "metadata": {},
   "outputs": [
    {
     "name": "stdout",
     "output_type": "stream",
     "text": [
      "atg\n"
     ]
    }
   ],
   "source": [
    "s1 = \"ATG\"\n",
    "s2 = s1.lower()\n",
    "print(s2)"
   ]
  },
  {
   "cell_type": "markdown",
   "metadata": {},
   "source": [
    "Similarly, you can use `upper()` to convert a string to all uppercase. These methods create a *new* string, they leave the string you use to call the method unchanged.\n",
    "\n",
    "Here is a list of useful string methods. For a complete overview you can check the [Python string documentation](https://docs.python.org/3/library/stdtypes.html#string-methods).\n",
    "\n",
    "* `upper()` - Returns a string in uppercase\n",
    "* `lower()` - Returns a string in lowercase\n",
    "* `len()` - Returns the length of a string\n",
    "* `count()` - Returns the number of occurrences of a string within another string\n",
    "* `replace()` - Returns a string with specific text replaced \n",
    "* `find()` - Return the first position where a substring is found, or -1 if is not found\n",
    "* `strip()` - Returns a string with all leading and trailing whitespace removed\n"
   ]
  },
  {
   "cell_type": "markdown",
   "metadata": {},
   "source": [
    "## Exercises: strings\n",
    "\n",
    "**Exercise 1.6**\n",
    "\n",
    "You are going to analyze the following sequence in more detail using Python:\n",
    "\n",
    "```\n",
    "GCTTGACAGGTAGACAGGACCCATAGACAGGATAGACAGGTAGACAGGGATAGACAGGGATAGCCAGATAGACGATAGCGATGATAC\n",
    "```\n",
    "\n",
    "To get this sequence into python you are allowed to copy paste!\n",
    "Provide answers + code to the following questions:\n",
    "\n",
    "1. What is the length of this sequence?\n",
    "\n",
    "2. What is the 40th base of this sequence?\n",
    "\n",
    "3. Is there a C in the sequence starting at base position 44 and ending at position 53? (let Python tell you)\n"
   ]
  },
  {
   "cell_type": "markdown",
   "metadata": {},
   "source": [
    "**Exercise 1.7**\n",
    "\n",
    "Given the following input:\n",
    "\n",
    "```python\n",
    "seq1 = \"ATG\"\n",
    "seq2 = \"GATTACA\"\n",
    "seq3 = \"A\"\n",
    "```\n",
    "\n",
    "Write the code that will calculate the total length of these three sequences and print the following output:\n",
    "\n",
    "```python\n",
    "Total length: 11\n",
    "```"
   ]
  },
  {
   "cell_type": "markdown",
   "metadata": {},
   "source": [
    "**Exercise 1.8**\n",
    "\n",
    "An open reading frame is a sequence of DNA that starts with the start codon ATG and ends with a stop codon (TAA, TAG or TGA). Take the following DNA sequence.\n",
    "\n",
    "```python\n",
    "dna = \"TTGCATGTCAATCGATCGGATTGGTTGATTTATCCCGA\"\n",
    "```\n",
    "\n",
    "This sequence contains one ORF, with a start codon at the 5th position and a stop codon (TGA) at the 26th position.\n",
    "\n",
    "1. Write code that will print the ORF of this sequence. \n",
    "\n",
    "Let's look at a different DNA sequence:\n",
    "\n",
    "```python\n",
    "dna2 = \"CCGGTATGCGGTTCTGACCA\"\n",
    "```\n",
    "\n",
    "2. Does the code that you wrote for 1) also work for this sequence? If not, write code that will print the ORF of a DNA sequence (only with the TGA stop codon) that works with either of this sequences.\n"
   ]
  },
  {
   "cell_type": "markdown",
   "metadata": {},
   "source": [
    "**Exercise 1.9**\n",
    "\n",
    "Write code that will print the GC content of a sequence. This is the fraction of a sequence that is either C or G. When you use string `dna` from **1.8** it should print the following:\n",
    "\n",
    "```\n",
    "GC content: 42%\n",
    "```"
   ]
  },
  {
   "cell_type": "markdown",
   "metadata": {},
   "source": [
    "**Exercise 1.10**\n",
    "\n",
    "Write code that will print a sequence in lower-case with the ORF (start ATG, stop TGA) in upper-case.\n",
    "\n",
    "For instance, the following sequence:\n",
    "\n",
    "```python\n",
    "dna = \"TTGCATGTCAATCGATCGGATTGGTTGATTTATCCCGA\"\n",
    "```\n",
    "\n",
    "Would be printed like this:\n",
    "\n",
    "```python\n",
    "ttgcATGTCAATCGATCGGATTGGTTGAtttatcccga\n",
    "```"
   ]
  }
 ],
 "metadata": {
  "kernelspec": {
   "display_name": "Python 3",
   "language": "python",
   "name": "python3"
  },
  "language_info": {
   "codemirror_mode": {
    "name": "ipython",
    "version": 3
   },
   "file_extension": ".py",
   "mimetype": "text/x-python",
   "name": "python",
   "nbconvert_exporter": "python",
   "pygments_lexer": "ipython3",
   "version": "3.7.3"
  }
 },
 "nbformat": 4,
 "nbformat_minor": 2
}
