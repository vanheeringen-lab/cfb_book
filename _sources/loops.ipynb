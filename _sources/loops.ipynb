{
 "cells": [
  {
   "cell_type": "markdown",
   "metadata": {},
   "source": [
    "## Loops\n",
    "\n",
    "A lot of computations involve processing a string one character at a time. Often they start at the beginning, select each character in turn, do something to it, and continue until the end. This pattern of processing is called a **traversal**. One way to write a traversal is with a `while` loop:\n"
   ]
  },
  {
   "cell_type": "code",
   "execution_count": 11,
   "metadata": {},
   "outputs": [
    {
     "name": "stdout",
     "output_type": "stream",
     "text": [
      "G\n",
      "C\n",
      "T\n",
      "T\n",
      "G\n",
      "A\n",
      "C\n",
      "A\n",
      "G\n",
      "G\n",
      "T\n",
      "A\n",
      "G\n",
      "A\n",
      "C\n",
      "A\n",
      "G\n",
      "G\n"
     ]
    }
   ],
   "source": [
    "s ='GCTTGACAGGTAGACAGG'\n",
    "\n",
    "index = 0\n",
    "while index < len(s):\n",
    "    base = s[index]\n",
    "    print(base)\n",
    "    index = index + 1\n"
   ]
  },
  {
   "cell_type": "markdown",
   "metadata": {},
   "source": [
    "This loop traverses the string ('s') and displays each letter ('base') on a line by itself. The loop condition is index < len(s), so when index is equal to the length of the string, the condition is false, and the body of the loop is not executed. The last character accessed is the one with the index len(s)-1, which is the last character in the string.\n",
    "\n",
    "Both indexing and the function `len` also work on a `list`, so we could do the same if 's' were a `list`:\n"
   ]
  },
  {
   "cell_type": "code",
   "execution_count": 12,
   "metadata": {},
   "outputs": [
    {
     "name": "stdout",
     "output_type": "stream",
     "text": [
      "G\n",
      "C\n",
      "T\n",
      "T\n",
      "G\n",
      "A\n",
      "C\n",
      "A\n",
      "G\n",
      "G\n",
      "T\n",
      "A\n",
      "G\n",
      "A\n",
      "C\n",
      "A\n",
      "G\n",
      "G\n"
     ]
    }
   ],
   "source": [
    "s = list(s)\n",
    "\n",
    "index = 0\n",
    "while index < len(s):\n",
    "    base = s[index]\n",
    "    print(base)\n",
    "    index = index + 1"
   ]
  },
  {
   "cell_type": "markdown",
   "metadata": {},
   "source": [
    "We could do more interesting stuff on this sequence, for instance counting the number of different bases within the sequence:\n"
   ]
  },
  {
   "cell_type": "code",
   "execution_count": 14,
   "metadata": {},
   "outputs": [
    {
     "name": "stdout",
     "output_type": "stream",
     "text": [
      "5\n",
      "3\n",
      "7\n",
      "3\n"
     ]
    }
   ],
   "source": [
    "index = 0\n",
    "a = 0\n",
    "c = 0\n",
    "g = 0\n",
    "t = 0\n",
    " \n",
    "while index < len(s):\n",
    "    base = s[index]\n",
    "    if base == 'A':\n",
    "        a = a + 1\n",
    "    elif base == 'C':\n",
    "        c = c + 1\n",
    "    elif base == 'G':\n",
    "        g = g + 1\n",
    "    elif base == 'T':\n",
    "        t = t + 1\n",
    "    index = index + 1\n",
    "\n",
    "print(a)\n",
    "print(c)\n",
    "print(g)\n",
    "print(t)"
   ]
  },
  {
   "cell_type": "markdown",
   "metadata": {},
   "source": [
    "Please look carefully at this code for what is done in each step !\n",
    "\n",
    "\n",
    "The `for` statement is another looping statement which iterates over a sequence of objects i.e. go through each item in a sequence. `for` works also works on a `list` and a `string`. Here are some examples:\n"
   ]
  },
  {
   "cell_type": "code",
   "execution_count": 15,
   "metadata": {},
   "outputs": [
    {
     "name": "stdout",
     "output_type": "stream",
     "text": [
      "G\n",
      "C\n",
      "T\n",
      "T\n",
      "G\n",
      "A\n",
      "C\n",
      "A\n"
     ]
    }
   ],
   "source": [
    "s ='GCTTGACA'\n",
    "for i in s:\n",
    "    print(i)"
   ]
  },
  {
   "cell_type": "code",
   "execution_count": 16,
   "metadata": {},
   "outputs": [
    {
     "name": "stdout",
     "output_type": "stream",
     "text": [
      "HCT116\n",
      "HeLa\n",
      "HEK293\n"
     ]
    }
   ],
   "source": [
    "cell_lines = ['HCT116', 'HeLa', 'HEK293']\n",
    "for i in cell_lines:\n",
    "    print(i)"
   ]
  },
  {
   "cell_type": "markdown",
   "metadata": {},
   "source": [
    "The `range` function is convenient to create a sequence of integers, while you can specify the beginning, end and step-size of your integers. The result is a `list`. By default it starts at 0. For example:\n"
   ]
  },
  {
   "cell_type": "code",
   "execution_count": 6,
   "metadata": {},
   "outputs": [
    {
     "data": {
      "text/plain": [
       "range(0, 5)"
      ]
     },
     "execution_count": 6,
     "metadata": {},
     "output_type": "execute_result"
    }
   ],
   "source": [
    "range(5)"
   ]
  },
  {
   "cell_type": "code",
   "execution_count": 17,
   "metadata": {},
   "outputs": [
    {
     "data": {
      "text/plain": [
       "[0, 1, 2, 3, 4]"
      ]
     },
     "execution_count": 17,
     "metadata": {},
     "output_type": "execute_result"
    }
   ],
   "source": [
    "list(range(0, 5))"
   ]
  },
  {
   "cell_type": "code",
   "execution_count": 20,
   "metadata": {},
   "outputs": [
    {
     "name": "stdout",
     "output_type": "stream",
     "text": [
      "0\n",
      "1\n",
      "2\n",
      "3\n",
      "4\n"
     ]
    }
   ],
   "source": [
    "for i in range(0,5):\n",
    "    print(i)"
   ]
  },
  {
   "cell_type": "code",
   "execution_count": 21,
   "metadata": {},
   "outputs": [
    {
     "name": "stdout",
     "output_type": "stream",
     "text": [
      "1\n",
      "3\n",
      "5\n",
      "7\n",
      "9\n"
     ]
    }
   ],
   "source": [
    "for i in range(1, 10, 2):\n",
    "    print(i)"
   ]
  },
  {
   "cell_type": "markdown",
   "metadata": {},
   "source": [
    "`range()` could help us to step through a sequence to get the indexes of the codon-starts one by one:\n"
   ]
  },
  {
   "cell_type": "code",
   "execution_count": 9,
   "metadata": {},
   "outputs": [
    {
     "name": "stdout",
     "output_type": "stream",
     "text": [
      "0\n",
      "3\n",
      "6\n",
      "9\n",
      "12\n",
      "15\n",
      "18\n",
      "21\n",
      "24\n",
      "27\n",
      "30\n",
      "33\n",
      "36\n",
      "39\n",
      "42\n",
      "45\n",
      "48\n",
      "51\n",
      "54\n",
      "57\n",
      "60\n",
      "63\n",
      "66\n",
      "69\n",
      "72\n",
      "75\n",
      "78\n",
      "81\n",
      "84\n"
     ]
    }
   ],
   "source": [
    "s = 'GCTTGACAGGTAGACAGGACCCATAGACAGGATAGACAGGTAGACAGGGATAGACAGGGATAGCCAGATAGACGATAGCGATGATAC'\n",
    "for i in range(0, len(s), 3):\n",
    "    print(i)"
   ]
  },
  {
   "cell_type": "markdown",
   "metadata": {},
   "source": [
    "So, we can now use this range of integers to step through the sequence (s), obtain the codons, append them to an empty list, and finally print the new list:\n"
   ]
  },
  {
   "cell_type": "code",
   "execution_count": 10,
   "metadata": {},
   "outputs": [
    {
     "name": "stdout",
     "output_type": "stream",
     "text": [
      "['GCT', 'TGA', 'CAG', 'GTA', 'GAC', 'AGG', 'ACC', 'CAT', 'AGA', 'CAG', 'GAT', 'AGA', 'CAG', 'GTA', 'GAC', 'AGG', 'GAT', 'AGA', 'CAG', 'GGA', 'TAG', 'CCA', 'GAT', 'AGA', 'CGA', 'TAG', 'CGA', 'TGA', 'TAC']\n"
     ]
    }
   ],
   "source": [
    "codons = []\n",
    "for i in range(0, len(s), 3):\n",
    "    codons.append(s[i:i + 3])\n",
    "print(codons)"
   ]
  },
  {
   "cell_type": "markdown",
   "metadata": {},
   "source": [
    "Note how we used a `for` loop, `range`, `append`, and `list` slices !\n",
    "\n",
    "## Glossary of loop terms\n",
    "\n",
    "* `while`\n",
    "* `for`\n",
    "* `if`\n",
    "* `elif`\n",
    "* `range`"
   ]
  }
 ],
 "metadata": {
  "kernelspec": {
   "display_name": "Python 3",
   "language": "python",
   "name": "python3"
  },
  "language_info": {
   "codemirror_mode": {
    "name": "ipython",
    "version": 3
   },
   "file_extension": ".py",
   "mimetype": "text/x-python",
   "name": "python",
   "nbconvert_exporter": "python",
   "pygments_lexer": "ipython3",
   "version": "3.8.5"
  }
 },
 "nbformat": 4,
 "nbformat_minor": 4
}
