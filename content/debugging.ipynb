{
 "cells": [
  {
   "cell_type": "markdown",
   "metadata": {},
   "source": [
    "# Debugging\n",
    "\n",
    "## Exercises: debugging\n",
    "\n",
    "**Exercise 10.1**\n",
    "\n",
    "The purpose of the following code is to count how often each TF in the network is a target of a TF in the network (it also counts if a TF regulates itself).\n",
    "In other words, how many TFs in the network bind in the promoter of a given TF.\n",
    "\n",
    "* The below code is provided in the script `exercise4_with_errors.py`. \n",
    "* Use the terminal and command line to copy the file to a new file named `my_exercise4.py`.\n",
    "* Edit the new file by clicking on it in the Jupyter browser.\n",
    "* Every time you change the file, save it.\n",
    "* Execute the Python script from the command line with `python my_exercise4.py`.\n",
    "\n",
    "**Questions**\n",
    "\n",
    "1. What is the purpose of this code? (This should be obvious from the short description given above and the code itself)\n",
    "2. What is the input and what is the expected output? \n",
    "**Answer this question before running or changing the code, but make use of the network as defined in the dictionary `hsc_network`**.\n",
    "3. Identify the source of the runtime errors, and fix the mistake into the code so that the script runs without error. \n",
    "In that case, the last line of the output should be \"Finished analysis of HSC network\".\n",
    "4. After you fixed the errors in the code, does the code produce the expected output? \n",
    "5. What is the output (list each TF and its target frequency)?\n",
    "6. How would you solve this counting problem more elegantly? Hint: e.g. by using a single dictionary to replace the list `list_of_tfs` and dictionary `tf_to_index`.\n",
    "\n",
    "Advice: make liberal use of `print()` statements to understand \n",
    "1. What each line in the code is trying to achieve\n",
    "2. How to make the code function correctly, and make sure that it indeed functions correctly."
   ]
  },
  {
   "cell_type": "markdown",
   "metadata": {},
   "source": [
    "```{hint}\n",
    "There are multiple *bugs* in the code below. Some are obvious mistakes (a typo). \n",
    "However, some are mistakes that do not produce runtime errors that produce an incorrect result.\n",
    "```"
   ]
  },
  {
   "cell_type": "code",
   "execution_count": 2,
   "metadata": {
    "tags": [
     "raises-exception"
    ]
   },
   "outputs": [
    {
     "ename": "NameError",
     "evalue": "name 'target_frequency' is not defined",
     "output_type": "error",
     "traceback": [
      "\u001b[0;31m---------------------------------------------------------------------------\u001b[0m",
      "\u001b[0;31mNameError\u001b[0m                                 Traceback (most recent call last)",
      "\u001b[0;32m<ipython-input-2-e83b46195bf2>\u001b[0m in \u001b[0;36m<module>\u001b[0;34m\u001b[0m\n\u001b[1;32m     31\u001b[0m     \u001b[0;32mfor\u001b[0m \u001b[0mtarget_tf\u001b[0m \u001b[0;32min\u001b[0m \u001b[0mlist_of_target_tfs\u001b[0m\u001b[0;34m:\u001b[0m       \u001b[0;31m# iterate over all TFs that are targeted by source_tf\u001b[0m\u001b[0;34m\u001b[0m\u001b[0;34m\u001b[0m\u001b[0m\n\u001b[1;32m     32\u001b[0m         \u001b[0mindex_in_list\u001b[0m \u001b[0;34m=\u001b[0m \u001b[0mtf_to_index\u001b[0m\u001b[0;34m[\u001b[0m\u001b[0mtarget_tf\u001b[0m\u001b[0;34m]\u001b[0m \u001b[0;31m# retrieve list index associated with this TF\u001b[0m\u001b[0;34m\u001b[0m\u001b[0;34m\u001b[0m\u001b[0m\n\u001b[0;32m---> 33\u001b[0;31m         \u001b[0mtarget_frequencies\u001b[0m\u001b[0;34m[\u001b[0m\u001b[0mindex_in_list\u001b[0m\u001b[0;34m]\u001b[0m \u001b[0;34m=\u001b[0m \u001b[0mtarget_frequency\u001b[0m\u001b[0;34m[\u001b[0m\u001b[0mindex_in_list\u001b[0m\u001b[0;34m]\u001b[0m \u001b[0;34m+\u001b[0m \u001b[0;36m1\u001b[0m\u001b[0;34m\u001b[0m\u001b[0;34m\u001b[0m\u001b[0m\n\u001b[0m\u001b[1;32m     34\u001b[0m \u001b[0;34m\u001b[0m\u001b[0m\n\u001b[1;32m     35\u001b[0m \u001b[0;32mfor\u001b[0m \u001b[0mindex\u001b[0m \u001b[0;32min\u001b[0m \u001b[0mrange\u001b[0m\u001b[0;34m(\u001b[0m\u001b[0mlen\u001b[0m\u001b[0;34m(\u001b[0m\u001b[0mlist_of_tfs\u001b[0m\u001b[0;34m)\u001b[0m\u001b[0;34m)\u001b[0m\u001b[0;34m:\u001b[0m\u001b[0;34m\u001b[0m\u001b[0;34m\u001b[0m\u001b[0m\n",
      "\u001b[0;31mNameError\u001b[0m: name 'target_frequency' is not defined"
     ]
    }
   ],
   "source": [
    "# define HSC network from Bonzanni et al, Bioinformatics 2013\n",
    "hsc_network = {                                # each key is a source TF, the value for each key is a list of target TFs\n",
    "        \"Scl\" : [\"Scl\",\"Gata1\",\"Gata2\",\"Hhex\",\"Zfpm1\",\"Fli1\",\"Erg\",\"Smad6\",\"Runx1\",\"Eto2\"],\n",
    "        \"Pu.1\" : [\"Pu.1\",\"Runx1\",\"Gata1\"],\n",
    "        \"Runx1\" : [\"Runx1\",\"Pu.1\",\"Erg\"],\n",
    "        \"Smad6\" : [\"Runx1\"],\n",
    "        \"Eto2\" : [\"Erg\"],\n",
    "        \"Gata1\" : [\"Gata1\",\"Scl\",\"Pu.1\",\"Gata2\"],\n",
    "        \"Fli1\" : [\"Fli1\",\"Runx1\",\"Pu.1\",\"Scl\",\"Gata2\",\"Hhex\",\"Erg\",\"Smad6\"],\n",
    "        \"Erg\" : [\"Smad6\",\"Runx1\",\"Erg\",\"Hhex\",\"Gata2\",\"Fli1\"],\n",
    "        \"Zfpm1\" : [\"Gata2\"],\n",
    "        \"Gata2\" : [\"Zfpm1\",\"Runx1\",\"Smad6\",\"Eto2\",\"Scl\",\"Gata2\",\"Hhex\",\"Fli1\",\"Erg\"],\n",
    "        \"Hhex\" : [\"Gata2\"]\n",
    "        }\n",
    "\n",
    "target_frequencies = [0,0,0,0,0,0,0,0]         # How often is each TF a target of another TF?\n",
    "list_of_tfs = []                               # list of transcription factors in the network\n",
    "\n",
    "tf_to_index = {}                               # dictionary linking TF name to numerical index in list\n",
    "\n",
    "index = 0                                      # initialize index to zero\n",
    "for tf in hsc_network:\n",
    "    list_of_tfs.append(tf)                     # append tf to the list of transcription factors in the network\n",
    "    index = index + 1  # update index\n",
    "\n",
    "    tf_to_index[tf] = index                    # associate the transcription factor tf with the index\n",
    "\n",
    "\n",
    "for source_tf in hsc_network:                  # iterate over TFs in the network\n",
    "    list_of_target_tfs = hsc_network[source_tf]\n",
    "    for target_tf in list_of_target_tfs:       # iterate over all TFs that are targeted by source_tf\n",
    "        index_in_list = tf_to_index[target_tf] # retrieve list index associated with this TF\n",
    "        target_frequencies[index_in_list] = target_frequency[index_in_list] + 1\n",
    "\n",
    "for index in range(len(list_of_tfs)):\n",
    "    tf = list_of_tfs[index]\n",
    "    target_frequency_tf = target_frequencies[ index ]\n",
    "    print(\"Transcription factor\",tf,\"is\",target_frequency_tf,\"times a target of another TF\")\n",
    "\n",
    "print(\"Finished analysis of HSC network\")"
   ]
  },
  {
   "cell_type": "markdown",
   "metadata": {},
   "source": [
    "**Exercise 10.2**\n",
    "\n",
    "The following code (provided in the file `exercise5.py`) \n",
    "tests whether a particular TF of interest directly regulates itself (in other words, if a TF binds in its own promoter).\n",
    "The name of the TF of interest is assigned to the variable `my_tf_of_interest`.\n",
    "\n",
    "The code should print \n",
    "\n",
    "    Transcription factor my_tf_of_interest regulates itself\n",
    "\n",
    "or\n",
    "\n",
    "    Transcription factor my_tf_of_interest does not regulate itself\n",
    "\n",
    "to screen (with \"my_tf_of_interest\" replaced by the actual TF name), depending on whether there is a self-regulation relationship encoded in the\n",
    "`hsc_network` dictionary variable or not.\n",
    "\n",
    "**Questions**\n",
    "\n",
    "1. This script contains a bug (otherwise it wouldn't be a question here). Can you identify the bug without running the code (try for at least 10 minutes)?\n",
    "2. Run the code as a script from the command line in a terminal.\n",
    " Does the code run without error?\n",
    "3. Does the code provide the correct output for the TF named 'Scl'?\n",
    "4. Does the code provide the correct output for all TFs? \n",
    "If not, how would you adapt the code (extend or change it) so that it does produce the desired output?\n"
   ]
  },
  {
   "cell_type": "code",
   "execution_count": 3,
   "metadata": {},
   "outputs": [
    {
     "name": "stdout",
     "output_type": "stream",
     "text": [
      "Transcription factor Scl regulates itself\n"
     ]
    }
   ],
   "source": [
    "# Does a TF regulate itself?\n",
    "\n",
    "# each key is a source TF, the value for each key is a list of target TFs\n",
    "hsc_network = {                                \n",
    "        \"Scl\" : [\"Scl\",\"Gata1\",\"Gata2\",\"Hhex\",\"Zfpm1\",\"Fli1\",\"Erg\",\"Smad6\",\"Runx1\",\"Eto2\"],\n",
    "        \"Pu.1\" : [\"Pu.1\",\"Runx1\",\"Gata1\"],\n",
    "        \"Runx1\" : [\"Runx1\",\"Pu.1\",\"Erg\"],\n",
    "        \"Smad6\" : [\"Runx1\"],\n",
    "        \"Eto2\" : [\"Erg\"],\n",
    "        \"Gata1\" : [\"Gata1\",\"Scl\",\"Pu.1\",\"Gata2\"],\n",
    "        \"Fli1\" : [\"Fli1\",\"Runx1\",\"Pu.1\",\"Scl\",\"Gata2\",\"Hhex\",\"Erg\",\"Smad6\"],\n",
    "        \"Erg\" : [\"Smad6\",\"Runx1\",\"Erg\",\"Hhex\",\"Gata2\",\"Fli1\"],\n",
    "        \"Zfpm1\" : [\"Gata2\"],\n",
    "        \"Gata2\" : [\"Zfpm1\",\"Runx1\",\"Smad6\",\"Eto2\",\"Scl\",\"Gata2\",\"Hhex\",\"Fli1\",\"Erg\"],\n",
    "        \"Hhex\" : [\"Gata2\"]\n",
    "        }\n",
    "\n",
    "my_tf_of_interest = 'Scl'\n",
    "\n",
    "for target_tf in hsc_network[my_tf_of_interest]:\n",
    "    if target_tf == my_tf_of_interest:\n",
    "        my_tf_regulates_itself = True\n",
    "\n",
    "if my_tf_regulates_itself:\n",
    "    print(\"Transcription factor\",my_tf_of_interest,\"regulates itself\")\n",
    "else:\n",
    "    print(\"Transcription factor\",my_tf_of_interest,\"does not regulate itself\")"
   ]
  },
  {
   "cell_type": "markdown",
   "metadata": {},
   "source": [
    "**Exercise 10.3**\n",
    "\n",
    "This exercise focuses on problems that may arise when an input file does not have the formatting you expect, contains errors or otherwise unexpected events.\n",
    "\n",
    "For small networks it is feasible to type your network directly as a dictionary, like in the example above. \n",
    "In other realistic scenarios, the network file is produced by another analysis (either your own Python script or another program), and you would like\n",
    "to analyze the network produced by that program.\n",
    "\n",
    "The purpose of the below code is to determine which TFs are provided in a flat text file, and count *how many* target genes each TF has. \n",
    "To keep things managable, the text file contains only a small network.\n",
    "\n",
    "The setting is as follows:\n",
    "\n",
    "* We have an flat text input file containing the network links in the following format:\n",
    "\n",
    "    source_tf_1 target_1 target_2 target_3\n",
    "    source_tf_2 target_4 target_5\n",
    "\n",
    "* We want to parse the input file and count for each source_tf that occurs how many targets it has.\n",
    "* To test the correctness of our code, we provide you with an input file that has several issues that cause the program \n",
    "to misbehave.\n",
    "\n",
    "The following code is contained in the script `exercise6.py`. \n",
    "It reads a network from the file `network_exercise_6.txt`.  \n",
    "The code contained in it is as follows:"
   ]
  },
  {
   "cell_type": "code",
   "execution_count": 5,
   "metadata": {
    "tags": [
     "raises-exception"
    ]
   },
   "outputs": [
    {
     "ename": "IndexError",
     "evalue": "list index out of range",
     "output_type": "error",
     "traceback": [
      "\u001b[0;31m---------------------------------------------------------------------------\u001b[0m",
      "\u001b[0;31mIndexError\u001b[0m                                Traceback (most recent call last)",
      "\u001b[0;32m<ipython-input-5-b5ec3a33a1ca>\u001b[0m in \u001b[0;36m<module>\u001b[0;34m\u001b[0m\n\u001b[1;32m      5\u001b[0m \u001b[0;32mfor\u001b[0m \u001b[0mline\u001b[0m \u001b[0;32min\u001b[0m \u001b[0minput_file\u001b[0m\u001b[0;34m:\u001b[0m\u001b[0;34m\u001b[0m\u001b[0;34m\u001b[0m\u001b[0m\n\u001b[1;32m      6\u001b[0m     \u001b[0mentries\u001b[0m \u001b[0;34m=\u001b[0m \u001b[0mline\u001b[0m\u001b[0;34m.\u001b[0m\u001b[0mstrip\u001b[0m\u001b[0;34m(\u001b[0m\u001b[0;34m)\u001b[0m\u001b[0;34m.\u001b[0m\u001b[0msplit\u001b[0m\u001b[0;34m(\u001b[0m\u001b[0;34m)\u001b[0m\u001b[0;34m\u001b[0m\u001b[0;34m\u001b[0m\u001b[0m\n\u001b[0;32m----> 7\u001b[0;31m     \u001b[0msource_tf\u001b[0m \u001b[0;34m=\u001b[0m \u001b[0mentries\u001b[0m\u001b[0;34m[\u001b[0m\u001b[0;36m0\u001b[0m\u001b[0;34m]\u001b[0m   \u001b[0;31m# source TF is always the first string in a line\u001b[0m\u001b[0;34m\u001b[0m\u001b[0;34m\u001b[0m\u001b[0m\n\u001b[0m\u001b[1;32m      8\u001b[0m     \u001b[0mtargets\u001b[0m \u001b[0;34m=\u001b[0m \u001b[0mentries\u001b[0m\u001b[0;34m[\u001b[0m\u001b[0;36m1\u001b[0m\u001b[0;34m:\u001b[0m\u001b[0;34m]\u001b[0m \u001b[0;31m# the strings after the first one are the target genes\u001b[0m\u001b[0;34m\u001b[0m\u001b[0;34m\u001b[0m\u001b[0m\n\u001b[1;32m      9\u001b[0m     \u001b[0mtarget_tfs_dict\u001b[0m\u001b[0;34m[\u001b[0m\u001b[0msource_tf\u001b[0m\u001b[0;34m]\u001b[0m \u001b[0;34m=\u001b[0m \u001b[0mtargets\u001b[0m\u001b[0;34m\u001b[0m\u001b[0;34m\u001b[0m\u001b[0m\n",
      "\u001b[0;31mIndexError\u001b[0m: list index out of range"
     ]
    }
   ],
   "source": [
    "target_tfs_dict = {} # will contain a list of the target genes for each source gene\n",
    "\n",
    "input_file = open(\"/scratch/cfb/scripts_debugging/network_exercise_6.txt\",'r') # change path/filename if you want to run it on a different file\n",
    "\n",
    "for line in input_file:\n",
    "    entries = line.strip().split()\n",
    "    source_tf = entries[0]   # source TF is always the first string in a line\n",
    "    targets = entries[1:] # the strings after the first one are the target genes\n",
    "    target_tfs_dict[source_tf] = targets\n",
    "\n",
    "input_file.close()\n",
    "\n",
    "for tf in sorted(target_tfs_dict):\n",
    "    print(\"Source TF:\\t\",tf,\"\\tNumber of targets:\\t\",len(target_tfs_dict[tf]))"
   ]
  },
  {
   "cell_type": "markdown",
   "metadata": {},
   "source": [
    "Run the script from the command line in a terminal. You can view the network file by clicking on it in the Jupyter file browser. \n",
    "\n",
    "**Expected output**\n",
    "\n",
    "If the script functions correctly, the desired output is:\n",
    "\n",
    "    Source TF:\t Erg \tNumber of targets:\t 6\n",
    "    Source TF:\t Eto2 \tNumber of targets:\t 1\n",
    "    Source TF:\t Fli1 \tNumber of targets:\t 8\n",
    "    Source TF:\t Gata1 \tNumber of targets:\t 4\n",
    "    Source TF:\t Gata2 \tNumber of targets:\t 9\n",
    "    Source TF:\t Hhex \tNumber of targets:\t 1\n",
    "    Source TF:\t Pu.1 \tNumber of targets:\t 3\n",
    "    Source TF:\t Runx1 \tNumber of targets:\t 3\n",
    "    Source TF:\t Scl \tNumber of targets:\t 10\n",
    "    Source TF:\t Smad6 \tNumber of targets:\t 1\n",
    "    Source TF:\t Zfpm1 \tNumber of targets:\t 1\n",
    "\n",
    "\n",
    "**Question/assignment:**\n",
    "\n",
    "The script `exercise6.py` makes three assumptions about the input file that are not valid (the input file violates the assumption).\n",
    "\n",
    "Describe at least three assumptions that this script makes about the input file and provide a script that produces the desired output.\n",
    "\n",
    "For example, describe the assumptions as specifically as in the following examples (this is just an example, not relevant to this script):\n",
    "\n",
    "* The script assumes that each line has precisely 20 characters\n",
    "* The script assumes that each line starts with a capital letter\n",
    "\n",
    "```{note}\n",
    "You have the change the Python script; you are **NOT** allowed to change the input file!\n",
    "```\n",
    "\n",
    "**Hints:**\n",
    "\n",
    "1. Use `if` statements to check whether a specific assumption that you require for correct execution is satisfied.\n",
    "For instance, you can use an `if` statement to check the length of a list, or whether a key is present in the dictionary.\n",
    "2. Add `print()` statements to understand what each line is doing and what the value is of a variable.\n",
    "3. You are allowed to change the input file to understand where the problem is, but you have to provide code that produces the correct output for the original input file.\n",
    "\n",
    "\n",
    "[comment1]: # (Assumes at least 1 target on each line)\n",
    "[comment2]: # (Assumes no duplicates / assumes all targets of a TF are on the same line)\n",
    "[comment3]: # (Assumes the separator is always a space)"
   ]
  }
 ],
 "metadata": {
  "celltoolbar": "Tags",
  "kernelspec": {
   "display_name": "Python 3",
   "language": "python",
   "name": "python3"
  },
  "language_info": {
   "codemirror_mode": {
    "name": "ipython",
    "version": 3
   },
   "file_extension": ".py",
   "mimetype": "text/x-python",
   "name": "python",
   "nbconvert_exporter": "python",
   "pygments_lexer": "ipython3",
   "version": "3.7.3"
  }
 },
 "nbformat": 4,
 "nbformat_minor": 4
}
