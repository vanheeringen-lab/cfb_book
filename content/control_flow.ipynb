{
 "cells": [
  {
   "cell_type": "markdown",
   "metadata": {},
   "source": [
    "# Control flow\n",
    "\n",
    "The `if` statement is used to **check a condition**: if the condition is true, we run a block of statements (called the if-block), next we can test another condition (`elif`, short for \"else if\") and we process another block of statements (called the elif-block). Lastly, we can use an `else` clause, which is optional.\n"
   ]
  },
  {
   "cell_type": "code",
   "execution_count": 1,
   "metadata": {},
   "outputs": [
    {
     "name": "stdout",
     "output_type": "stream",
     "text": [
      "Yes, cell line is present.\n"
     ]
    }
   ],
   "source": [
    "cell_lines = ['HCT116', 'HeLa', 'HEK293']\n",
    "c = 'HeLa'\n",
    "\n",
    "if c in cell_lines:\n",
    "    # New block starts here\n",
    "    print('Yes, cell line is present.')\n",
    "    # New block ends here\n",
    "elif c not in cell_lines:\n",
    "    # Another block\n",
    "    print('No, not present')\n",
    "    # block ends here"
   ]
  },
  {
   "cell_type": "markdown",
   "metadata": {},
   "source": [
    "Now, run the same commands for `c = 'U2Os'`.\n"
   ]
  },
  {
   "cell_type": "markdown",
   "metadata": {},
   "source": [
    "Note the following:\n",
    "\n",
    "* In the example above we used `if c in cell_lines` to test a condition (\"is c an element of the `list` cell_lines?\").\n",
    "* The checked condition statement is always followed by `:`.\n",
    "* The following block is **indented**, **4 spaces** is conventionally used.\n",
    "* The outcome of such test is `True` or `False`. If `True`, the codeblock is executed\n",
    "* Here are some operators for condition tests:\n",
    "    * `in` is an element of\n",
    "    * `==` equivalence (values, strings)\n",
    "    * `>`  greater than\n",
    "    * `>=` greater than or equal\n",
    "    * `<`  less than\n",
    "    * `<=` less than or equal\n",
    "    * `!=` not equal\n",
    "* You can combine condition tests with `or`, `and`\n",
    "* You can \"invert\" a condition by placing `not` in front\n",
    "* `=` is different from `==` !!\n",
    "\n",
    "\n",
    "Here is another example, in this case we use `if` to compare values:"
   ]
  },
  {
   "cell_type": "code",
   "execution_count": 2,
   "metadata": {},
   "outputs": [
    {
     "name": "stdout",
     "output_type": "stream",
     "text": [
      "Your number n is less.\n"
     ]
    }
   ],
   "source": [
    "some_number = 10\n",
    "n = 9\n",
    " \n",
    "if n < some_number:\n",
    "    print('Your number n is less.')\n",
    "elif n == some_number:\n",
    "    print('Your number n is exactly the same!')\n",
    "else:\n",
    "    print('No idea...greater maybe?')\n"
   ]
  },
  {
   "cell_type": "markdown",
   "metadata": {},
   "source": [
    "Run the same block for other values of `n`.\n",
    "\n",
    "\n",
    "The result of your condition test is `True` or `False`. Check this by running:\n",
    "    \n",
    "    c in cell_lines\n",
    "\n",
    "    n < some_number"
   ]
  },
  {
   "cell_type": "markdown",
   "metadata": {},
   "source": [
    "So, simply running the following also works:\n"
   ]
  },
  {
   "cell_type": "code",
   "execution_count": 3,
   "metadata": {},
   "outputs": [
    {
     "name": "stdout",
     "output_type": "stream",
     "text": [
      "Yes, no doubt about this...\n"
     ]
    }
   ],
   "source": [
    "if True:\n",
    "    print('Yes, no doubt about this...')\n"
   ]
  },
  {
   "cell_type": "markdown",
   "metadata": {},
   "source": [
    "One conditional can also be nested within another. For example:\n"
   ]
  },
  {
   "cell_type": "code",
   "execution_count": 6,
   "metadata": {},
   "outputs": [
    {
     "name": "stdout",
     "output_type": "stream",
     "text": [
      "x is less than y\n"
     ]
    }
   ],
   "source": [
    "x = 5\n",
    "y = 6\n",
    "\n",
    "if x == y:\n",
    "    print('x and y are equal')\n",
    "else:\n",
    "    if x < y:\n",
    "        print('x is less than y')\n",
    "    else:\n",
    "        print('x is greater than y')"
   ]
  },
  {
   "cell_type": "markdown",
   "metadata": {},
   "source": [
    "Although the indentation of the statements makes the structure apparent, nested conditionals become difficult to read very quickly. \n",
    "**Logical operators** (e.g. `and`, `or`) often provide a way to simplify nested conditional statements. For example, we can rewrite the following code using a single conditional:\n"
   ]
  },
  {
   "cell_type": "code",
   "execution_count": 10,
   "metadata": {},
   "outputs": [
    {
     "name": "stdout",
     "output_type": "stream",
     "text": [
      "x is a positive single-digit number.\n"
     ]
    }
   ],
   "source": [
    "x = 1\n",
    "\n",
    "if 0 < x:\n",
    "    if x < 10:\n",
    "        print('x is a positive single-digit number.')\n"
   ]
  },
  {
   "cell_type": "markdown",
   "metadata": {},
   "source": [
    "The `print()` statement is executed only if we make it past both conditionals, so we can get the same effect with the and operator:\n"
   ]
  },
  {
   "cell_type": "code",
   "execution_count": 11,
   "metadata": {},
   "outputs": [
    {
     "name": "stdout",
     "output_type": "stream",
     "text": [
      "x is a positive single-digit number.\n"
     ]
    }
   ],
   "source": [
    "if 0 < x and x < 10:\n",
    "    print('x is a positive single-digit number.')\n"
   ]
  },
  {
   "cell_type": "markdown",
   "metadata": {},
   "source": [
    "## Glossary of control flow terms\n",
    "\n",
    "* `if`\n",
    "* `elif`\n",
    "* `else`\n",
    "* `and`\n",
    "* `or`\n",
    "* `not`\n",
    "* `in`\n",
    "* `==`\n",
    "* `>`\n",
    "* `>=`\n",
    "* `<`\n",
    "* `<=`\n",
    "* `!=`"
   ]
  }
 ],
 "metadata": {
  "kernelspec": {
   "display_name": "Python 3",
   "language": "python",
   "name": "python3"
  },
  "language_info": {
   "codemirror_mode": {
    "name": "ipython",
    "version": 3
   },
   "file_extension": ".py",
   "mimetype": "text/x-python",
   "name": "python",
   "nbconvert_exporter": "python",
   "pygments_lexer": "ipython3",
   "version": "3.8.5"
  }
 },
 "nbformat": 4,
 "nbformat_minor": 4
}
