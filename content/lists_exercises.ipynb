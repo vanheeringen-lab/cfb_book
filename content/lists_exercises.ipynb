{
 "cells": [
  {
   "cell_type": "markdown",
   "metadata": {},
   "source": [
    "# **Exercises**: lists\n",
    "\n",
    "### **Exercise** 3.1\n",
    "\n",
    "Carefully read the following code and run it in your notebook:"
   ]
  },
  {
   "cell_type": "code",
   "execution_count": 6,
   "metadata": {},
   "outputs": [
    {
     "name": "stdout",
     "output_type": "stream",
     "text": [
      "The complete list is ['A', 'B', 'C', 'D']\n",
      "Third item in the list is: C\n"
     ]
    }
   ],
   "source": [
    "my_list = ['A','B','C','D']\n",
    "print('The complete list is', my_list)\n",
    "third_item_in_list = my_list[2]\n",
    "print('Third item in the list is:', third_item_in_list)"
   ]
  },
  {
   "cell_type": "markdown",
   "metadata": {},
   "source": [
    "1. Question: why do you use the number '2' to retrieve the third item from the list, instead of the number '3'?\n",
    "\n",
    "Now extend the code and create a variable that contains the value of the fourth item in the list, and prints this **on the same line**\n",
    "as the third item of the list.\n",
    "Make sure to give the new variable an appropriate name."
   ]
  },
  {
   "cell_type": "markdown",
   "metadata": {},
   "source": [
    "### **Exercise** 3.2\n",
    "\n",
    "Extend this code to add an extra line in which you append the integer 5 (not the string) to the list. \n",
    "Check your code by adding the necessary print statements.\n"
   ]
  },
  {
   "cell_type": "code",
   "execution_count": 7,
   "metadata": {},
   "outputs": [
    {
     "name": "stdout",
     "output_type": "stream",
     "text": [
      "The complete list is [0, 1, 2, 3, 4]\n",
      "Third item in the list is: 2\n"
     ]
    }
   ],
   "source": [
    "my_list = [0,1,2,3,4]\n",
    "print('The complete list is', my_list)\n",
    "third_item_in_list = my_list[2]\n",
    "print('Third item in the list is:', third_item_in_list)"
   ]
  },
  {
   "cell_type": "markdown",
   "metadata": {},
   "source": [
    "\n",
    "### **Exercise** 3.3\n",
    "\n",
    "Look at the following code (do not run it yet):\n",
    "Question: what does the code do? Which value is printed to the screen? Run the code to check your answer."
   ]
  },
  {
   "cell_type": "code",
   "execution_count": 8,
   "metadata": {},
   "outputs": [
    {
     "name": "stdout",
     "output_type": "stream",
     "text": [
      "-1\n"
     ]
    }
   ],
   "source": [
    "my_list = [0,1,2,3,4]\n",
    "my_list[2] = -1\n",
    "print(my_list[2])"
   ]
  },
  {
   "cell_type": "markdown",
   "metadata": {},
   "source": [
    "### **Exercise** 3.4\n",
    "\n",
    "Look at the following code (do not run it yet):\n",
    "\n",
    "    my_list = [0,1,2,3,4]\n",
    "    my_list[2] = -1\n",
    "    print(my_list[5])\n",
    "    \n",
    "1. Question: what does the code do? Why is there an error message?\n",
    "2. Question: what is the lowest index number allowed to retrieve an item from a list and what is the greatest?"
   ]
  },
  {
   "cell_type": "markdown",
   "metadata": {},
   "source": [
    "### **Exercise** 3.5\n",
    "\n",
    "Read the following code:\n",
    "    \n",
    "    my_list = ['A','B','C',1,2,3,4]\n",
    "    my_list_index = 3\n",
    "    list_item = my_list[my_list_index]\n",
    "    print(list_item)\n",
    "    \n",
    "1. Question: which value is printed to the screen?\n",
    "2. This code shows that you can also use a variable as the index to retrieve items from a list. Why is this useful?"
   ]
  },
  {
   "cell_type": "markdown",
   "metadata": {},
   "source": [
    "### **Exercise** 3.6\n",
    "\n",
    "In the following code, change the value that is assigned to the variable `start` such that the value `2` is printed to the screen.\n",
    "\n",
    "**Note** You are not allowed to make any other modifications!\n"
   ]
  },
  {
   "cell_type": "code",
   "execution_count": 9,
   "metadata": {},
   "outputs": [
    {
     "name": "stdout",
     "output_type": "stream",
     "text": [
      "1\n"
     ]
    }
   ],
   "source": [
    "my_list = ['A','B','C', 1, 2, 3, 4]\n",
    "start = 0\n",
    "my_list_index = start + 3\n",
    "list_item = my_list[my_list_index]\n",
    "print(list_item)"
   ]
  },
  {
   "cell_type": "markdown",
   "metadata": {},
   "source": [
    "### **Exercise** 3.7\n",
    "\n",
    "Use the following sequence: \n",
    "\n",
    "~~~{.python}\n",
    "GCTTGACAGGTAGACAGGACCCATAGACAGGATAGACAGGTAGACAGGGATAGACAGGGATAGCCAGATAGACGATAGCGATGATAC\n",
    "~~~\n",
    "\n",
    "Write Python code that prints the string corresponding to the 6-base sequence motif starting at base position 35 of the reverse sequence\n"
   ]
  },
  {
   "cell_type": "markdown",
   "metadata": {},
   "source": [
    "### **Exercise** 3.8\n",
    "You are given two sets of transcription factors (TFs), tfs_1 and tfs_2:\n",
    "\n",
    "~~~{.python}\n",
    "tfs_1 = 'Oct4, Sox2, Nanog, Smad1, Klf4, Esrrb'\n",
    "tfs_2 = 'CTCF, n-Myc, c-Myc, STAT3, Tcfcp2l1, Zfx'\n",
    "~~~\n",
    "\n",
    "1. Convert both of these to a `list`\n",
    "\n",
    "2. Move the last TF from tfs_1 to tfs_2, **without typing the TF name**\n",
    "\n",
    "3. Move the two Myc TFs from tfs_2 to tfs_1, so that they are the first two TFs of tfs_1, **without typing the TF name**\n",
    "\n",
    "4. There are always multiple strategies .... so do the same as in 3. but using a different method, still **without typing the TF name**\n",
    "\n"
   ]
  },
  {
   "cell_type": "markdown",
   "metadata": {},
   "source": [
    "### **Exercise** 3.9\n",
    "The following list contains numbers:\n",
    "\n",
    "~~~{.python}\n",
    "nms = [199, 322, 244, 303, 325, 18, 303, 238, 9, 393, 285, 485, 337, 401, 307, 442, 389, 349, 275, 318, 290, 544, 372, 311, 187, 231, 230, 312, 388, 343, 263, 193, 416, 311, 156, 509, 468, 482, 397, 218, 90, 406, 608, 324, 151, 332, 217, 204, 158, 295, 345]\n",
    "~~~\n",
    "\n",
    "Copy-paste this list, and answer the following questions by using Python methods that we have covered so far:\n",
    "\n",
    "1. What is the minimum?\n",
    "\n",
    "2. What is the maximum?\n",
    "\n",
    "3. What is the 10th percentile? This is the value below which 10% of the values in the list are found. \n"
   ]
  },
  {
   "cell_type": "code",
   "execution_count": null,
   "metadata": {},
   "outputs": [],
   "source": []
  }
 ],
 "metadata": {
  "kernelspec": {
   "display_name": "Python 3",
   "language": "python",
   "name": "python3"
  },
  "language_info": {
   "codemirror_mode": {
    "name": "ipython",
    "version": 3
   },
   "file_extension": ".py",
   "mimetype": "text/x-python",
   "name": "python",
   "nbconvert_exporter": "python",
   "pygments_lexer": "ipython3",
   "version": "3.8.5"
  }
 },
 "nbformat": 4,
 "nbformat_minor": 4
}
