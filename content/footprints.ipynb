{
 "cells": [
  {
   "cell_type": "markdown",
   "metadata": {},
   "source": [
    "# Creating a DNAseI footprint profile\n",
    "\n",
    "```{note}\n",
    "This exercise is *optional*!\n",
    "```\n",
    "\n",
    "\n",
    "## Description\n",
    "\n",
    "The exercise for this week is to write a **script** that plots the cumulative footprint signal in motif sequences. \n",
    "The script is given two input filenames as arguments on the command line:\n",
    "\n",
    "* motif locations in BED format;\n",
    "* DNAseI sequencing data in indexed BAM format.\n",
    "\n",
    "The script needs to find all reads overlapping the motif region, \n",
    "extended with a certain length, \n",
    "and take the start position of the reads.\n",
    "It will plot all read start positions, the DNAseI cutting sites, \n",
    "averaged over all motif locations.\n",
    "The result should look something like this:\n",
    "\n",
    "![An example of a CTCF footprint profile.](img/CTCF.Fetal_Brain.png)\n",
    "\n",
    "### Data\n",
    "\n",
    "The motif matches for three transcription factors in DNAseI hotspots are located in `/scratch/cfb/footprints/`:\n",
    "\n",
    "* `/scratch/cfb/footprints/CTCF_motifs.bed`\n",
    "* `/scratch/cfb/footprints/NRF1_motifs.bed`\n",
    "* `/scratch/cfb/footprints/REST_motifs.bed`\n",
    "\n",
    "We have DNAseI sequencing data in BAM format for two different tissues (fetal heart and brain):\n",
    "\n",
    "* `/scratch/cfb/regmod/dnase/bam/UW.Fetal_Brain.ChromatinAccessibility.merged.bam`\n",
    "* `/scratch/cfb/regmod/dnase/bam/UW.Fetal_Heart.ChromatinAccessibility.merged.bam`\n",
    "\n",
    "### Reading BAM files\n",
    "\n",
    "To read BAM files, you will use the Python `pysam` module, \n",
    "see the documentation [here](http://pysam.readthedocs.org/).\n",
    "Let's say you have a `BAM` (indexed!) file called `example.bam`. \n",
    "Here is how to open it with `pysam`:"
   ]
  },
  {
   "cell_type": "code",
   "execution_count": 4,
   "metadata": {
    "tags": [
     "remove-cell"
    ]
   },
   "outputs": [
    {
     "name": "stdout",
     "output_type": "stream",
     "text": [
      "[Errno 2] No such file or directory: '../data/footprint/'\n",
      "/mnt/c/Users/simon/Documents/git/cfb_book/data/footprint\n"
     ]
    }
   ],
   "source": [
    "%cd ../data/footprint/"
   ]
  },
  {
   "cell_type": "code",
   "execution_count": 10,
   "metadata": {},
   "outputs": [],
   "source": [
    "import pysam\n",
    "samfile = pysam.AlignmentFile(\"example.bam\",  \"rb\")"
   ]
  },
  {
   "cell_type": "markdown",
   "metadata": {},
   "source": [
    "You can now retrieve reads mapping to a specific location with the `fetch` method, \n",
    "which returns an iterator."
   ]
  },
  {
   "cell_type": "code",
   "execution_count": 18,
   "metadata": {},
   "outputs": [
    {
     "name": "stdout",
     "output_type": "stream",
     "text": [
      "SOLEXA-1GA-1:7:72:651:1250#0 chr6 170861983\n",
      "SOLEXA-1GA-1:2:66:175:1257#0 chr6 170861983\n",
      "SOLEXA-1GA-1:4:11:575:1503#0 chr6 170861983\n",
      "SOLEXA-1GA-2:2:95:69:974#0 chr6 170861991\n",
      "SOLEXA-1GA-2_2_FC30DG6::5:100:373:1401 chr6 170861993\n",
      "SOLEXA-1GA-1:2:3:22:793:1306 chr6 170861994\n",
      "SOLEXA-1GA-2_2_FC30DG6::3:85:1736:96 chr6 170861997\n",
      "SOLEXA-1GA-2_2_FC30DG6::6:45:1406:1983 chr6 170862000\n",
      "SOLEXA-1GA-2_2_FC30DG6::5:28:437:474 chr6 170862001\n",
      "SOLEXA-1GA-1:4:2:416:1943#0 chr6 170862002\n",
      "SOLEXA-1GA-1:2:5:2:293:1943 chr6 170862006\n",
      "SOLEXA-1GA-1:2:2:40:1247:887 chr6 170862007\n",
      "SOLEXA-1GA-2:5:1:790:886#0 chr6 170862008\n"
     ]
    }
   ],
   "source": [
    "for read in samfile.fetch(\"chr6\", 170862000, 170862010):\n",
    "    print(read.qname, read.reference_name, read.reference_start)"
   ]
  },
  {
   "cell_type": "markdown",
   "metadata": {},
   "source": [
    "See the attributes of the read, an `AlignedSegment` object, [here](http://pysam.readthedocs.org/en/latest/api.html#pysam.AlignedSegment).\n",
    "\n",
    "### Creating the profile\n",
    "\n",
    "You can use a `list` to store the profile. "
   ]
  },
  {
   "cell_type": "code",
   "execution_count": 21,
   "metadata": {},
   "outputs": [
    {
     "name": "stdout",
     "output_type": "stream",
     "text": [
      "[0, 1, 0, 0, 3, 3, 3, 3, 2, 0]\n"
     ]
    }
   ],
   "source": [
    "profile = [0] * 10\n",
    "profile[1] += 1\n",
    "profile[8] += 2\n",
    "\n",
    "for i in range(4,8):\n",
    "    profile[i] += 3\n",
    "\n",
    "print(profile)"
   ]
  },
  {
   "cell_type": "markdown",
   "metadata": {},
   "source": [
    "### Plotting\n",
    "\n",
    "Here is an example how to make a line plot using `pandas`:\n"
   ]
  },
  {
   "cell_type": "code",
   "execution_count": 22,
   "metadata": {},
   "outputs": [
    {
     "data": {
      "image/png": "[encoded data removed]",
      "text/plain": [
       "<Figure size 432x288 with 1 Axes>"
      ]
     },
     "metadata": {},
     "output_type": "display_data"
    }
   ],
   "source": [
    "# This line is only necessary in Jupyter notebook, not in a script\n",
    "%matplotlib inline\n",
    "\n",
    "import pandas as pd\n",
    "import matplotlib.pyplot as plt\n",
    "import seaborn as sns\n",
    "import numpy as np\n",
    "\n",
    "sns.set_style('white')  # I like this better \n",
    "\n",
    "df = pd.DataFrame({\"a\": range(10), \"b\": np.random.rand(10)})\n",
    "\n",
    "# plot using pandas\n",
    "df.plot(title=\"example\")\n",
    "\n",
    "# customize plot\n",
    "plt.xlabel(\"x label\")\n",
    "plt.ylabel(\"y label\")\n",
    "\n",
    "# save figure as png (many other formats also possible)\n",
    "plt.savefig(\"myplot.png\")"
   ]
  },
  {
   "cell_type": "code",
   "execution_count": 23,
   "metadata": {
    "tags": [
     "remove-cell"
    ]
   },
   "outputs": [],
   "source": [
    "import os\n",
    "if os.path.exists(\"myplot.png\"):\n",
    "    os.unlink(\"myplot.png\")"
   ]
  },
  {
   "cell_type": "markdown",
   "metadata": {},
   "source": [
    "### Approach\n",
    "\n",
    "Keep the following things in mind:\n",
    "\n",
    "* Think about the problem first, before starting to program.\n",
    "* Write out the logic of the problem.\n",
    "* Start out small.\n",
    "* Think of test sets and create them.\n",
    "* The BAM files are big! Testing your script on a complete dataset will take too much time. **Don't copy the whole file to your own directory!**\n",
    "  Create a small test file with few motifs to develop and test your script. What would be a reasonably number? 1? 2? 10? 100? 1000?\n",
    "* The score of the motif match (higher means a better match) is represented in the 5th column of the BED file.\n",
    "\n",
    "#### Tricky issues:\n",
    "\n",
    "1. Motif orientation. A motif can be located on the forward or reverse strand (column 6 in the BED file). Start with only forward motifs, and once that works, add the reverse motifs.\n",
    "2. Read orientation. The start position of the reverse reads is not represented in the `pos` attribute. \n",
    "   Start with only the reads mapped to the forward strand.\n",
    "\n",
    "### Testing\n",
    "\n",
    "You can use CTCF and/or NRF1 data to test your script and compare your result to published examples.\n",
    "See [Fig. 5](http://genome.cshlp.org/content/21/3/456/F5.expansion.html) of [Boyle et al. 2012](https://dx.doi.org/10.1101/gr.112656.110) for CTCF and [Fig. 3](http://www.nature.com/nature/journal/v489/n7414/fig_tab/nature11212_F3.html) of [Neph et al. 2012](https://dx.doi.org/10.1038/nature11212) for NRF1.\n",
    "\n",
    "### Final exercise\n",
    "\n",
    "Create the footprint profile of REST (RE1-Silencing Transcription factor), also known as Neuron-Restrictive Silencer Factor (NRSF), \n",
    "in both heart and brain fetal tissues. \n",
    "Compare the resuls and check the literature for REST function.\n",
    "Can you explain the result?"
   ]
  }
 ],
 "metadata": {
  "celltoolbar": "Tags",
  "kernelspec": {
   "display_name": "Python 3",
   "language": "python",
   "name": "python3"
  },
  "language_info": {
   "codemirror_mode": {
    "name": "ipython",
    "version": 3
   },
   "file_extension": ".py",
   "mimetype": "text/x-python",
   "name": "python",
   "nbconvert_exporter": "python",
   "pygments_lexer": "ipython3",
   "version": "3.7.3"
  }
 },
 "nbformat": 4,
 "nbformat_minor": 4
}
