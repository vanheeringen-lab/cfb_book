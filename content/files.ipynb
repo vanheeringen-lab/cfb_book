{
 "cells": [
  {
   "cell_type": "markdown",
   "metadata": {},
   "source": [
    "# Files\n",
    "\n",
    "## Introduction to files\n",
    "\n",
    "Thus far we have used Python without reading input from files and writing output to files. We have created objects like lists and dictionaries, but nothing has been saved persistently on a disk, meaning that if we close Python, everything is gone. Usually you want to open a file, read its contents (line by line), analyze it, and write it to another file. To work with files we need the Python `file` object. `file` objects serve as a *link to a file* residing on a disk of a computer.\n",
    "\n",
    "To open a file, write some contents to it and close it:"
   ]
  },
  {
   "cell_type": "code",
   "execution_count": null,
   "metadata": {},
   "outputs": [],
   "source": [
    "myfile = open('testfile.txt', 'w')\n",
    "myfile.write('some text\\n')\n",
    "myfile.close()"
   ]
  },
  {
   "cell_type": "markdown",
   "metadata": {},
   "source": [
    "Note the following:\n",
    "\n",
    "*  `myfile` is the name of the Python `file` *object*\n",
    "*  `'testfile.txt'` is the name of the *file* written to the disk of the computer\n",
    "    * extension is not important, but suggests that it contains text\n",
    "*  The `'w'` argument to the `open()` function opens the file for *writing*\n",
    "*  If the file `'testfile.txt'` already exists, you will overwrite its contents\n",
    "*  If not, the file `'testfile.txt'` will be created \n",
    "*  You can also use `'a'` instead, which would *append* any output to the existing file called `'testfile.txt'`\n",
    "*  If you use `'r'` instead, you only open the file for only *reading* (it has to exist of course)\n",
    "*  `write()` is a method belonging to the `file` object \n",
    "*  `write()` does not add a newline character to the end of a line, that is why we add `\\n` to our text\n",
    "*  `close()` is a method belonging to the `file` object\n",
    "\n",
    "\n",
    "Many files used for our analyses are large. We could open them, store their contents in the memory of computer (RAM) and work on the complete contents. However, in most cases we want to avoid loading all contents into memory, and as most of the files we work with contain lines of text, we rather open the file, process its contents *line-by-line*, and write output to another file. \n",
    "\n",
    "To open a file and read its contents line-by-line we first open the file using `open()`. To step through the file line-by-line we use a `for` or `while` loop to 'iterate' over the resulting `file` object. *Each iteration returns a line of the file, from top to bottom*.\n",
    "\n",
    "The `for` or `while` loop automatically ends as soon as there are no lines anymore (=after the last line).\n",
    "\n",
    "At the end of the code that you execute for each line, you should close the file. "
   ]
  },
  {
   "cell_type": "code",
   "execution_count": 6,
   "metadata": {},
   "outputs": [
    {
     "name": "stdout",
     "output_type": "stream",
     "text": [
      "browser position chr7:127471196-127495720\n",
      "\n",
      "browser hide all\n",
      "\n",
      "track name=\"example\" description=\"example_bed_file\" visibility=2 itemRgb=\"On\"\n",
      "\n",
      "chr7\t127471196\t127472363\tPos1\t0\t+\t127471196\t127472363\t255,0,0\n",
      "\n",
      "chr7\t127472363\t127473530\tPos2\t0\t+\t127472363\t127473530\t255,0,0\n",
      "\n",
      "chr7\t127473530\t127474697\tPos3\t0\t+\t127473530\t127474697\t255,0,0\n",
      "\n",
      "chr7\t127474697\t127475864\tPos4\t0\t+\t127474697\t127475864\t255,0,0\n",
      "\n",
      "chr7\t127475864\t127477031\tNeg1\t0\t-\t127475864\t127477031\t0,0,255\n",
      "\n",
      "chr7\t127477031\t127478198\tNeg2\t0\t-\t127477031\t127478198\t0,0,255\n",
      "\n",
      "chr7\t127478198\t127479365\tNeg3\t0\t-\t127478198\t127479365\t0,0,255\n",
      "\n",
      "chr7\t127479365\t127480532\tPos5\t0\t+\t127479365\t127480532\t255,0,0\n",
      "\n",
      "chr7\t127480532\t127481699\tNeg4\t0\t-\t127480532\t127481699\t0,0,255\n"
     ]
    }
   ],
   "source": [
    "infile = open('/scratch/cfb/list-dict-loop/example.bed', 'r')\n",
    "for line in infile:\n",
    "    print(line)\n",
    "infile.close()"
   ]
  },
  {
   "cell_type": "markdown",
   "metadata": {},
   "source": [
    "The file `/scratch/cfb/list-dict-loop/example.bed` is an example BED file. BED files are used to store genomic coordinates along with additional information. BED files are for instance used to store genomic coordinates of ChIP-seq peaks. The first three fields (columns) contain the chromosome, start, and end of the features, respectively. The file `/scratch/cfb/list-dict-loop/example.bed` also contains 'header' lines that are used when the file is displayed in the UCSC genome browser. This is not always the case for BED files."
   ]
  },
  {
   "cell_type": "markdown",
   "metadata": {},
   "source": [
    "While the code above functions just fine, it is nowadays more common in Python to open files with the `with` statement."
   ]
  },
  {
   "cell_type": "code",
   "execution_count": 13,
   "metadata": {},
   "outputs": [
    {
     "name": "stdout",
     "output_type": "stream",
     "text": [
      "browser position chr7:127471196-127495720\n",
      "\n",
      "browser hide all\n",
      "\n",
      "track name=\"example\" description=\"example_bed_file\" visibility=2 itemRgb=\"On\"\n",
      "\n",
      "chr7\t127471196\t127472363\tPos1\t0\t+\t127471196\t127472363\t255,0,0\n",
      "\n",
      "chr7\t127472363\t127473530\tPos2\t0\t+\t127472363\t127473530\t255,0,0\n",
      "\n",
      "chr7\t127473530\t127474697\tPos3\t0\t+\t127473530\t127474697\t255,0,0\n",
      "\n",
      "chr7\t127474697\t127475864\tPos4\t0\t+\t127474697\t127475864\t255,0,0\n",
      "\n",
      "chr7\t127475864\t127477031\tNeg1\t0\t-\t127475864\t127477031\t0,0,255\n",
      "\n",
      "chr7\t127477031\t127478198\tNeg2\t0\t-\t127477031\t127478198\t0,0,255\n",
      "\n",
      "chr7\t127478198\t127479365\tNeg3\t0\t-\t127478198\t127479365\t0,0,255\n",
      "\n",
      "chr7\t127479365\t127480532\tPos5\t0\t+\t127479365\t127480532\t255,0,0\n",
      "\n",
      "chr7\t127480532\t127481699\tNeg4\t0\t-\t127480532\t127481699\t0,0,255\n"
     ]
    }
   ],
   "source": [
    "with open('/scratch/cfb/list-dict-loop/example.bed', 'r') as infile:\n",
    "    for line in infile:\n",
    "        print(line)"
   ]
  },
  {
   "cell_type": "markdown",
   "metadata": {},
   "source": [
    "You see that the code is very similar. However, you don't have to explicitly close the file. As soon as the code exits the `with` block, the file is closed automatically."
   ]
  },
  {
   "cell_type": "markdown",
   "metadata": {},
   "source": [
    "```{note}\n",
    "The `with` statement is the preferred way to work with files.\n",
    "```"
   ]
  },
  {
   "cell_type": "markdown",
   "metadata": {},
   "source": [
    "In the next few examples we will see some analysis of this file in action. Each example adds some steps and builds from the previous example. \n",
    "\n",
    "Example 1:\n",
    "\n",
    "* open the `/scratch/cfb/list-dict-loop/example.bed` file\n",
    "* read the file line-by-line\n",
    "* ignore header lines starting with 'browser' or 'track'\n",
    "* split each line into a list based on the `<tab>` character\n",
    "* print each line\n",
    "* print the values"
   ]
  },
  {
   "cell_type": "code",
   "execution_count": 14,
   "metadata": {},
   "outputs": [
    {
     "name": "stdout",
     "output_type": "stream",
     "text": [
      "['chr7', '127471196', '127472363', 'Pos1', '0', '+', '127471196', '127472363', '255,0,0']\n",
      "['chr7', '127472363', '127473530', 'Pos2', '0', '+', '127472363', '127473530', '255,0,0']\n",
      "['chr7', '127473530', '127474697', 'Pos3', '0', '+', '127473530', '127474697', '255,0,0']\n",
      "['chr7', '127474697', '127475864', 'Pos4', '0', '+', '127474697', '127475864', '255,0,0']\n",
      "['chr7', '127475864', '127477031', 'Neg1', '0', '-', '127475864', '127477031', '0,0,255']\n",
      "['chr7', '127477031', '127478198', 'Neg2', '0', '-', '127477031', '127478198', '0,0,255']\n",
      "['chr7', '127478198', '127479365', 'Neg3', '0', '-', '127478198', '127479365', '0,0,255']\n",
      "['chr7', '127479365', '127480532', 'Pos5', '0', '+', '127479365', '127480532', '255,0,0']\n",
      "['chr7', '127480532', '127481699', 'Neg4', '0', '-', '127480532', '127481699', '0,0,255']\n"
     ]
    }
   ],
   "source": [
    "with open('/scratch/cfb/list-dict-loop/example.bed', 'r') as infile:\n",
    "    for line in infile:        # use a variable called 'line' for each line\n",
    "        line = line.strip()    # take away the '\\\\n' character at the end of each line\n",
    "        # only proceed with lines lacking 'browser' or 'track' at the beginning\n",
    "        if not line.startswith('browser') and not line.startswith('track'):\n",
    "            # split the line (`string`) into a `list`, with the '\\\\t' as a delimiter\n",
    "            vals = line.split('\\t')\n",
    "            print(vals)"
   ]
  },
  {
   "cell_type": "markdown",
   "metadata": {},
   "source": [
    "Note how we used `startswith()` to check if a string starts with 'browser' or 'track'\n",
    "\n",
    "\n",
    "Example 2:\n",
    "\n",
    "* assign the first three elements of this list to the variables `chrom`, `start`, and `end`"
   ]
  },
  {
   "cell_type": "code",
   "execution_count": 15,
   "metadata": {},
   "outputs": [
    {
     "name": "stdout",
     "output_type": "stream",
     "text": [
      "chr7 127471196 127472363\n",
      "chr7 127472363 127473530\n",
      "chr7 127473530 127474697\n",
      "chr7 127474697 127475864\n",
      "chr7 127475864 127477031\n",
      "chr7 127477031 127478198\n",
      "chr7 127478198 127479365\n",
      "chr7 127479365 127480532\n",
      "chr7 127480532 127481699\n"
     ]
    }
   ],
   "source": [
    "with open('/scratch/cfb/list-dict-loop/example.bed', 'r') as infile:\n",
    "    for line in infile:\n",
    "        line = line.strip()\n",
    "        if not line.startswith('browser') and not line.startswith('track'):\n",
    "            vals = line.split('\\t')\n",
    "            chrom, start, end = vals[0:3]  \n",
    "            print(chrom, start, end)"
   ]
  },
  {
   "cell_type": "markdown",
   "metadata": {},
   "source": [
    "\n",
    "Example 3:\n",
    "\n",
    "* convert the `start` and `end` variables to an integer `int` (they are strings at first)\n",
    "* calculate the width (size in bases) of each feature"
   ]
  },
  {
   "cell_type": "code",
   "execution_count": 9,
   "metadata": {},
   "outputs": [
    {
     "name": "stdout",
     "output_type": "stream",
     "text": [
      "1167\n",
      "1167\n",
      "1167\n",
      "1167\n",
      "1167\n",
      "1167\n",
      "1167\n",
      "1167\n",
      "1167\n"
     ]
    }
   ],
   "source": [
    "with open('/scratch/cfb/list-dict-loop/example.bed', 'r') as infile:\n",
    "    for line in infile:              \n",
    "        line = line.strip()          \n",
    "        if not line.startswith('browser') and not line.startswith('track'):\n",
    "            line = line.split('\\t')  \n",
    "            chrom, start, end = line[0:3]      \n",
    "            start = int(start)    # convert start to `int`\n",
    "            end = int(end)        # convert end to `int`\n",
    "            width = end - start\n",
    "            print(width)"
   ]
  },
  {
   "cell_type": "markdown",
   "metadata": {},
   "source": [
    "Example 4:\n",
    "\n",
    "* calculate how many features with strand '+' and strand '-' are present\n"
   ]
  },
  {
   "cell_type": "code",
   "execution_count": 10,
   "metadata": {},
   "outputs": [
    {
     "name": "stdout",
     "output_type": "stream",
     "text": [
      "5 4\n"
     ]
    }
   ],
   "source": [
    "plus = 0\n",
    "minus = 0\n",
    "with open('/scratch/cfb/list-dict-loop/example.bed', 'r') as infile:\n",
    "    for line in infile:\n",
    "        line = line.strip()\n",
    "        if not line.startswith('browser') and not line.startswith('track'):\n",
    "            vals = line.split('\\t')\n",
    "            strand = vals[5]\n",
    "            if strand == '+':\n",
    "                plus = plus + 1\n",
    "            elif strand == '-':\n",
    "                minus = minus + 1\n",
    "\n",
    "print(plus, minus)"
   ]
  },
  {
   "cell_type": "markdown",
   "metadata": {},
   "source": [
    "Thus far we have used the `print()` statement to print output to the screen. But if you want to be more explicit in the formatting of the output, you should use `format()`, which creates a `string` that can either be printed or written to a file. The standard way of using `format()` is like this: `'some text {} more text {}'.format(var1, var2)`. See the following example in which `format()` is used:\n"
   ]
  },
  {
   "cell_type": "code",
   "execution_count": 3,
   "metadata": {},
   "outputs": [
    {
     "name": "stdout",
     "output_type": "stream",
     "text": [
      "Cell line 1 is HCT116\n",
      "Cell line 2 is HeLa\n",
      "Cell line 3 is HEK293\n"
     ]
    }
   ],
   "source": [
    "cell_lines = ['HCT116', 'HeLa', 'HEK293']\n",
    "for i in range(3):\n",
    "    args = 'Cell line {} is {}'.format(i + 1, cell_lines[i])\n",
    "    print(args)"
   ]
  },
  {
   "cell_type": "markdown",
   "metadata": {},
   "source": [
    "Note that the `print()` statement by default adds a newline character `\"\\n\"`. If you write to a file you need to add the newline character `\"\\n\"` to the string:"
   ]
  },
  {
   "cell_type": "code",
   "execution_count": 11,
   "metadata": {},
   "outputs": [],
   "source": [
    "with open('cell_lines.txt', 'w') as outfile:\n",
    "    cell_lines = ['HCT116', 'HeLa', 'HEK293']\n",
    "    for i in range(3):\n",
    "        args = 'Cell line {} is\\t{}\\n'.format(i + 1, cell_lines[i])\n",
    "        outfile.write(args)"
   ]
  },
  {
   "cell_type": "markdown",
   "metadata": {},
   "source": [
    "Note how we also used `\"\\t\"` here. This is the character that specifies a `<tab>`.\n"
   ]
  },
  {
   "cell_type": "markdown",
   "metadata": {},
   "source": [
    "## Glossary of terms and functions\n",
    "\n",
    "* `open()`\n",
    "* `with`\n",
    "* `for`\n",
    "* `while`\n",
    "* `write()`\n",
    "* `startswith()`\n",
    "* `format()`"
   ]
  },
  {
   "cell_type": "markdown",
   "metadata": {},
   "source": [
    "# Exercises: putting it all together\n",
    "\n",
    "## Exercise 6.1\n",
    "\n",
    "In this exercise you are going to analyze data from ChIP-seq of several transcription factors in mouse embryonic stem cells ([Chen et al. 2008, 13;133(6):1106-17, PMID 18555785](https://pubmed.ncbi.nlm.nih.gov/18555785/)). Please have a look at Figure 1 and 2 of this paper. Figure 1 shows the ChIP-seq profiles for the transcription factors.\n",
    "\n",
    "The ChIP-seq peaks that you see represent *in vivo* binding sites of these transcription factors. In Figure 2 the authors have analyzed the DNA sequence underneath these peaks, and identified specific DNA sequences (**motifs**) for each transcription factor. \n",
    "\n",
    "You are going to analyze these sequences as well, to see which motifs you can identify. You will count **k-mers** (short sequences, e.g. 8 bases in length) in the sequences underneath the ChIP-seq peaks of a specific transcription factor, and analyze which k-mers are overrepresented.\n",
    "\n",
    "DNA (or amino acid) sequence files are usually in FASTA format. Check out https://en.wikipedia.org/wiki/FASTA_format for a FASTA description and an example. Just read the first part.\n",
    "\n",
    "Before you start off using the FASTA files from the study mentioned above, you will work on a file called `testfile.fasta` (present in `/scratch/cfb/list-dict-loop`), which is a small FASTA file. This allows you to make and test your code quicker.\n",
    "\n",
    "1. Provide the Python code that allows you to read the FASTA file while ignoring the description lines containing `>`. For now it is OK to print the output. \n",
    "\n",
    "2. Extend your code with the following: For each sequence, extract all possible k-mers of length 4. Skip sequences that are shorter than 4 bases. Print the output. Make sure your code allows you to easily run the same analysis with different k-mer lengths.\n",
    "\n",
    "3. Extend your code with the following: Count the number of occurrences for each k-mer that is encountered (in all sequences together)\n",
    "\n",
    "4. Extend your code with the following: Write the top 10 most abundant k-mer sequences to an output file, along the the number of times they occur\n",
    "\n",
    "5. Now that you have assembled your code (you can remove the printing statements you used for testing) adapt your code to count kmers of **length 8**. Run your code on 2 files present in the `/scratch/cfb/list-dict-loop` directory:\n",
    "\n",
    "  * `GSM288346_ES_Oct4_mm9.peaks.fasta`\n",
    "  * `GSM288356_ES_c-Myc_mm9.peaks.fasta`\n",
    "  * `GSM288353_ES_Stat3_mm9.peaks.fasta`\n",
    "  * `GSM288354_ES_Klf4_mm9.peaks.fasta`\n",
    "\n",
    "For the top most occurring 8-mers that you obtained for each file, do these resemble the motifs for the corresponding transcription factors as displayed in Figure 2 of the paper?\n"
   ]
  },
  {
   "cell_type": "code",
   "execution_count": null,
   "metadata": {},
   "outputs": [],
   "source": []
  }
 ],
 "metadata": {
  "kernelspec": {
   "display_name": "Python 3",
   "language": "python",
   "name": "python3"
  },
  "language_info": {
   "codemirror_mode": {
    "name": "ipython",
    "version": 3
   },
   "file_extension": ".py",
   "mimetype": "text/x-python",
   "name": "python",
   "nbconvert_exporter": "python",
   "pygments_lexer": "ipython3",
   "version": "3.8.5"
  }
 },
 "nbformat": 4,
 "nbformat_minor": 4
}
