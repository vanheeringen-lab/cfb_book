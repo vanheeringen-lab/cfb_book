{
 "cells": [
  {
   "cell_type": "markdown",
   "metadata": {},
   "source": [
    "# Dictionaries\n",
    "\n",
    "A dictionary, or `dict`, is like a list, but more general. In a list, the indices have to be integers; in a dictionary they can be (almost) any type.\n",
    "You can think of a dictionary as a *mapping between a set of indices (which are called keys) and a set of values*. Each key maps to a value. The association of a key and a value is called a *key-value pair* or sometimes an *item*.\n",
    "\n",
    "\n",
    "As an example, we’ll build a dictionary that maps from *codons* to *amino acids*, so the keys and the values are all strings.\n",
    "\n",
    "![](img/dict1.png)\n",
    "\n",
    "The function `dict()` creates a new dictionary with no items. Because `dict` is the name of a built-in function, you should avoid using it as a variable name.\n"
   ]
  },
  {
   "cell_type": "code",
   "execution_count": 1,
   "metadata": {},
   "outputs": [
    {
     "name": "stdout",
     "output_type": "stream",
     "text": [
      "{}\n",
      "<class 'dict'>\n"
     ]
    }
   ],
   "source": [
    "cod2aa = dict()\n",
    "print(cod2aa)\n",
    "print(type(cod2aa))"
   ]
  },
  {
   "cell_type": "markdown",
   "metadata": {},
   "source": [
    "The curly-brackets, `{}`, represent an empty dictionary. \n",
    "You can als create an empty dictionary with the curly brackets (`{}`), just like you can create an empty list with square brackets (`[]`)."
   ]
  },
  {
   "cell_type": "code",
   "execution_count": 2,
   "metadata": {},
   "outputs": [
    {
     "name": "stdout",
     "output_type": "stream",
     "text": [
      "{}\n"
     ]
    }
   ],
   "source": [
    "cod2aa = {}\n",
    "print(cod2aa)"
   ]
  },
  {
   "cell_type": "markdown",
   "metadata": {},
   "source": [
    "To add items to the dictionary one at a time, you use square brackets:"
   ]
  },
  {
   "cell_type": "code",
   "execution_count": 3,
   "metadata": {},
   "outputs": [],
   "source": [
    "cod2aa['CTA'] = 'Leu'"
   ]
  },
  {
   "cell_type": "markdown",
   "metadata": {},
   "source": [
    "This line creates an item that maps from the key `'CTA'` to the value `'Leu'`. If we print the dictionary again, we see a key-value pair with a colon between the key and value:\n",
    "\n"
   ]
  },
  {
   "cell_type": "code",
   "execution_count": 4,
   "metadata": {},
   "outputs": [
    {
     "name": "stdout",
     "output_type": "stream",
     "text": [
      "{'CTA': 'Leu'}\n"
     ]
    }
   ],
   "source": [
    "print(cod2aa)"
   ]
  },
  {
   "cell_type": "markdown",
   "metadata": {},
   "source": [
    "This output format is also an input format. For example, you can create a new dictionary with 3 items:\n"
   ]
  },
  {
   "cell_type": "code",
   "execution_count": 5,
   "metadata": {},
   "outputs": [],
   "source": [
    "cod2aa = {'CTA': 'Leu', 'AGC': 'Ser', 'ACT': 'Thr'}"
   ]
  },
  {
   "cell_type": "markdown",
   "metadata": {},
   "source": [
    "If you print `cod2aa`, you will see that the order of the items in the dictionary is the same. The order of items in the dictionary identical top the order of insertion."
   ]
  },
  {
   "cell_type": "code",
   "execution_count": 6,
   "metadata": {},
   "outputs": [
    {
     "name": "stdout",
     "output_type": "stream",
     "text": [
      "{'CTA': 'Leu', 'AGC': 'Ser', 'ACT': 'Thr'}\n"
     ]
    }
   ],
   "source": [
    "print(cod2aa)"
   ]
  },
  {
   "cell_type": "markdown",
   "metadata": {},
   "source": [
    "```{warning}\n",
    "The dictionary order became available in Python 3.6 and is guaranteed from Python 3.7 onwards. If you ever use an older Python version, be aware that this order is not guaranteed and practically unpredictable. In this case you have to assume that a dictionary is unordered!\n",
    "```"
   ]
  },
  {
   "cell_type": "markdown",
   "metadata": {},
   "source": [
    "You can retrieve an item from a dictionary by using the `[]` square brackets. This is similar as to how you access elements from a list."
   ]
  },
  {
   "cell_type": "code",
   "execution_count": 7,
   "metadata": {},
   "outputs": [
    {
     "name": "stdout",
     "output_type": "stream",
     "text": [
      "Thr\n"
     ]
    }
   ],
   "source": [
    "print(cod2aa['ACT'])"
   ]
  },
  {
   "cell_type": "markdown",
   "metadata": {},
   "source": [
    "The key `'ACT'` always maps to the value `'Thr'` so the order of the items doesn’t matter.\n",
    "If the key isn’t in the dictionary, you get a `KeyError` exception:\n"
   ]
  },
  {
   "cell_type": "code",
   "execution_count": 8,
   "metadata": {
    "tags": [
     "raises-exception"
    ]
   },
   "outputs": [
    {
     "ename": "KeyError",
     "evalue": "'GGT'",
     "output_type": "error",
     "traceback": [
      "\u001b[0;31m---------------------------------------------------------------------------\u001b[0m",
      "\u001b[0;31mKeyError\u001b[0m                                  Traceback (most recent call last)",
      "\u001b[0;32m<ipython-input-8-de50dd413888>\u001b[0m in \u001b[0;36m<module>\u001b[0;34m\u001b[0m\n\u001b[0;32m----> 1\u001b[0;31m \u001b[0mprint\u001b[0m\u001b[0;34m(\u001b[0m\u001b[0mcod2aa\u001b[0m\u001b[0;34m[\u001b[0m\u001b[0;34m'GGT'\u001b[0m\u001b[0;34m]\u001b[0m\u001b[0;34m)\u001b[0m\u001b[0;34m\u001b[0m\u001b[0;34m\u001b[0m\u001b[0m\n\u001b[0m",
      "\u001b[0;31mKeyError\u001b[0m: 'GGT'"
     ]
    }
   ],
   "source": [
    "print(cod2aa['GGT'])"
   ]
  },
  {
   "cell_type": "markdown",
   "metadata": {},
   "source": [
    "```{note}\n",
    "Dictionaries are very similar to lists. The one major differences is that values in a `list` are always access by an integer and that value in a `dict` are can be accessed by a variety of key types. \n",
    "```"
   ]
  },
  {
   "cell_type": "markdown",
   "metadata": {},
   "source": [
    "Because you use keys to look up values, you can understand that *keys must always be unique*. On the other hand, *values do not need to be unique and can be anything*, including a `list` or a `dict`.\n",
    "Let us add another codon (key) that maps to an already existing amino acid (value):\n"
   ]
  },
  {
   "cell_type": "code",
   "execution_count": 9,
   "metadata": {},
   "outputs": [
    {
     "name": "stdout",
     "output_type": "stream",
     "text": [
      "{'CTA': 'Leu', 'AGC': 'Ser', 'ACT': 'Thr', 'TTG': 'Leu'}\n"
     ]
    }
   ],
   "source": [
    "cod2aa['TTG'] = 'Leu'\n",
    "print(cod2aa)"
   ]
  },
  {
   "cell_type": "markdown",
   "metadata": {},
   "source": [
    "The `len()` function works on dictionaries; it returns the number of key-value pairs:\n"
   ]
  },
  {
   "cell_type": "code",
   "execution_count": 10,
   "metadata": {},
   "outputs": [
    {
     "data": {
      "text/plain": [
       "4"
      ]
     },
     "execution_count": 10,
     "metadata": {},
     "output_type": "execute_result"
    }
   ],
   "source": [
    "len(cod2aa)"
   ]
  },
  {
   "cell_type": "markdown",
   "metadata": {},
   "source": [
    "The `in` operator works on dictionaries; it tells you whether something appears as a *key* in the dictionary (appearing as a value is not good enough).\n"
   ]
  },
  {
   "cell_type": "code",
   "execution_count": 11,
   "metadata": {},
   "outputs": [
    {
     "data": {
      "text/plain": [
       "True"
      ]
     },
     "execution_count": 11,
     "metadata": {},
     "output_type": "execute_result"
    }
   ],
   "source": [
    "'CTA' in cod2aa"
   ]
  },
  {
   "cell_type": "code",
   "execution_count": 12,
   "metadata": {},
   "outputs": [
    {
     "data": {
      "text/plain": [
       "False"
      ]
     },
     "execution_count": 12,
     "metadata": {},
     "output_type": "execute_result"
    }
   ],
   "source": [
    "'Leu' in cod2aa"
   ]
  },
  {
   "cell_type": "markdown",
   "metadata": {},
   "source": [
    "## Dictionary Methods\n",
    "\n",
    "Python provides methods that operate on dictionaries. For example, `keys()` gives you all the keys of a dictionary, `values()` gives you all the values, and `items()` gives you all key:value pairs.\n"
   ]
  },
  {
   "cell_type": "code",
   "execution_count": 13,
   "metadata": {},
   "outputs": [
    {
     "name": "stdout",
     "output_type": "stream",
     "text": [
      "dict_keys(['TTG', 'CTA', 'ACT', 'AGC'])\n"
     ]
    }
   ],
   "source": [
    "cod2aa = {'TTG': 'Leu', 'CTA': 'Leu', 'ACT': 'Thr', 'AGC': 'Ser'}\n",
    "codons = cod2aa.keys()\n",
    "print(codons)"
   ]
  },
  {
   "cell_type": "markdown",
   "metadata": {},
   "source": [
    "You see all the values of the keys in `cod2aa`, which are the different codons. However, you'll als not an unfamiliar `dict_keys()` object. If you want to loop over all the keys, this doesn't matter:"
   ]
  },
  {
   "cell_type": "code",
   "execution_count": 14,
   "metadata": {},
   "outputs": [
    {
     "name": "stdout",
     "output_type": "stream",
     "text": [
      "TTG\n",
      "CTA\n",
      "ACT\n",
      "AGC\n"
     ]
    }
   ],
   "source": [
    "for codon in codons:\n",
    "    print(codon)"
   ]
  },
  {
   "cell_type": "markdown",
   "metadata": {},
   "source": [
    "However, if you want to use this object as a `list` you have to explicitly convert it to `list` using the `list()` function."
   ]
  },
  {
   "cell_type": "code",
   "execution_count": 15,
   "metadata": {},
   "outputs": [
    {
     "name": "stdout",
     "output_type": "stream",
     "text": [
      "['TTG', 'CTA', 'ACT', 'AGC']\n"
     ]
    }
   ],
   "source": [
    "codons = list(codons)\n",
    "print(codons)"
   ]
  },
  {
   "cell_type": "markdown",
   "metadata": {},
   "source": [
    "The `values()` and `items()` methods are very similar to `keys()`."
   ]
  },
  {
   "cell_type": "code",
   "execution_count": 16,
   "metadata": {},
   "outputs": [
    {
     "name": "stdout",
     "output_type": "stream",
     "text": [
      "dict_values(['Leu', 'Leu', 'Thr', 'Ser'])\n"
     ]
    }
   ],
   "source": [
    "amino_acids = cod2aa.values()\n",
    "print(amino_acids)"
   ]
  },
  {
   "cell_type": "code",
   "execution_count": 17,
   "metadata": {},
   "outputs": [
    {
     "name": "stdout",
     "output_type": "stream",
     "text": [
      "dict_items([('TTG', 'Leu'), ('CTA', 'Leu'), ('ACT', 'Thr'), ('AGC', 'Ser')])\n"
     ]
    }
   ],
   "source": [
    "i = cod2aa.items()\n",
    "print(i)"
   ]
  },
  {
   "cell_type": "code",
   "execution_count": 18,
   "metadata": {},
   "outputs": [
    {
     "name": "stdout",
     "output_type": "stream",
     "text": [
      "TTG encodes for Leu\n",
      "CTA encodes for Leu\n",
      "ACT encodes for Thr\n",
      "AGC encodes for Ser\n"
     ]
    }
   ],
   "source": [
    "for codon, aa in cod2aa.items():\n",
    "    print(f\"{codon} encodes for {aa}\")"
   ]
  },
  {
   "cell_type": "markdown",
   "metadata": {},
   "source": [
    "As with lists, you can use `pop()` to obtain and delete one key:value pair."
   ]
  },
  {
   "cell_type": "code",
   "execution_count": 19,
   "metadata": {},
   "outputs": [
    {
     "name": "stdout",
     "output_type": "stream",
     "text": [
      "before pop: {'TTG': 'Leu', 'CTA': 'Leu', 'ACT': 'Thr', 'AGC': 'Ser'}\n",
      "Thr\n",
      "after pop: {'TTG': 'Leu', 'CTA': 'Leu', 'AGC': 'Ser'}\n"
     ]
    }
   ],
   "source": [
    "print(\"before pop:\", cod2aa)\n",
    "p = cod2aa.pop('ACT')\n",
    "print(p)\n",
    "print(\"after pop:\", cod2aa)"
   ]
  },
  {
   "cell_type": "markdown",
   "metadata": {},
   "source": [
    "## Glossary of useful `dictionary` terms\n",
    "\n",
    "* `dict()`\n",
    "* `len()`\n",
    "* `in`\n",
    "* `values()`\n",
    "* `keys()`\n",
    "* `items()`\n",
    "* `pop()`"
   ]
  }
 ],
 "metadata": {
  "celltoolbar": "Tags",
  "kernelspec": {
   "display_name": "Python 3",
   "language": "python",
   "name": "python3"
  },
  "language_info": {
   "codemirror_mode": {
    "name": "ipython",
    "version": 3
   },
   "file_extension": ".py",
   "mimetype": "text/x-python",
   "name": "python",
   "nbconvert_exporter": "python",
   "pygments_lexer": "ipython3",
   "version": "3.8.5"
  }
 },
 "nbformat": 4,
 "nbformat_minor": 4
}
